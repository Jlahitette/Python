{
  "cells": [
    {
      "cell_type": "markdown",
      "metadata": {
        "id": "view-in-github",
        "colab_type": "text"
      },
      "source": [
        "<a href=\"https://colab.research.google.com/github/Jlahitette/Python/blob/main/TD_Info.ipynb\" target=\"_parent\"><img src=\"https://colab.research.google.com/assets/colab-badge.svg\" alt=\"Open In Colab\"/></a>"
      ]
    },
    {
      "cell_type": "code",
      "execution_count": null,
      "metadata": {
        "id": "a1vyEk7bVd3M"
      },
      "outputs": [],
      "source": [
        "\n",
        "\n",
        "###############                                      TD ET TP CHAPITRE 3                            ################\n",
        "\n",
        "\n"
      ]
    },
    {
      "cell_type": "code",
      "execution_count": null,
      "metadata": {
        "id": "z0XmMKQ1Vd3Q",
        "outputId": "201611bc-186f-475c-b3c6-5bed9300489a"
      },
      "outputs": [
        {
          "name": "stdout",
          "output_type": "stream",
          "text": [
            "3\n"
          ]
        }
      ],
      "source": [
        "import random\n",
        "def D6():\n",
        "    '''none->int\n",
        "    preconditions: none\n",
        "    renvoie un int compris entre 1 et 6'''\n",
        "    resultat=random.randint(1,6)\n",
        "    return resultat\n",
        "\n",
        "x=D6()\n",
        "print(x)\n"
      ]
    },
    {
      "cell_type": "code",
      "execution_count": null,
      "metadata": {
        "id": "5abiOSvGVd3R",
        "outputId": "0be24f0e-98cd-4b84-cdce-41cb216ad2b1"
      },
      "outputs": [
        {
          "name": "stdout",
          "output_type": "stream",
          "text": [
            "8\n"
          ]
        }
      ],
      "source": [
        "import random\n",
        "def Des(n):\n",
        "    '''int->int\n",
        "    preconditions: argument doit entre >1\n",
        "    renvoie un int compris entre 1 et 6'''\n",
        "    resultat=random.randint(1,n)\n",
        "    return resultat\n",
        "\n",
        "x=Des(10)\n",
        "print(x)"
      ]
    },
    {
      "cell_type": "code",
      "execution_count": null,
      "metadata": {
        "id": "6Zh0-nScVd3R",
        "outputId": "8bcebc76-e317-4386-d02e-06ff9ef0ebf2"
      },
      "outputs": [
        {
          "name": "stdin",
          "output_type": "stream",
          "text": [
            "Saissez la coordonnée x du point A : 1\n",
            "Saissez la coordonnée y du point A : 1\n",
            "Saissez la coordonnée x du point B : 4\n",
            "Saissez la coordonnée y du point B : 4\n"
          ]
        },
        {
          "name": "stdout",
          "output_type": "stream",
          "text": [
            "La distance qui separe les points ( 1 , 1 ) et ( 4 , 4 ) est  4.242640687119285\n"
          ]
        }
      ],
      "source": [
        "def carre(nb):\n",
        "    '''int->int\n",
        "    preconditions: none\n",
        "    renvoie le carre de nb souhaité'''\n",
        "    resultat=nb*nb\n",
        "    return resultat\n",
        "\n",
        "\n",
        "import math\n",
        "\n",
        "def distance():\n",
        "    '''none-->float\n",
        "    preconditions: none\n",
        "    renvoie la distance entre les points A et B'''\n",
        "    xa=int(input('Saissez la coordonnée x du point A :'))\n",
        "    ya=int(input('Saissez la coordonnée y du point A :'))\n",
        "    xb=int(input('Saissez la coordonnée x du point B :'))\n",
        "    yb=int(input('Saissez la coordonnée y du point B :'))\n",
        "    d=math.sqrt(carre(xa-xb)+carre(ya-yb))\n",
        "    print('La distance qui separe les points (',xa,',',ya,') et (',xb,',',yb,') est ',d)\n",
        "\n",
        "x=distance()\n"
      ]
    },
    {
      "cell_type": "code",
      "execution_count": null,
      "metadata": {
        "id": "BzdC7WyxVd3S",
        "outputId": "c1bfd3e3-c828-4a23-d30d-129b3bb674f5"
      },
      "outputs": [
        {
          "name": "stdout",
          "output_type": "stream",
          "text": [
            "26\n",
            "Z\n"
          ]
        }
      ],
      "source": [
        "def numlettre(maj):\n",
        "    '''str->int\n",
        "    preconditions: maj doit etre une lettre majuscule\n",
        "    donne le numero d'ordre de la lettre dans l'alphabet'''\n",
        "    print(ord(maj)-64)\n",
        "x=numlettre('Z')\n",
        "\n",
        "def lettrenum(num):\n",
        "    '''int->str\n",
        "    preconditions: num rentre doit etre compris entre 1 et 26\n",
        "    donne la lettre majuscule de l'alphabet du numero correspondant dans l'ordre A-Z'''\n",
        "    print(chr(num+64))\n",
        "\n",
        "y=lettrenum(26)"
      ]
    },
    {
      "cell_type": "code",
      "execution_count": null,
      "metadata": {
        "id": "kIfUgbPpVd3S"
      },
      "outputs": [],
      "source": [
        "\n",
        "\n",
        "###############                                      TD ET TP CHAPITRE 4                            ################\n",
        "\n",
        "\n"
      ]
    },
    {
      "cell_type": "code",
      "execution_count": null,
      "metadata": {
        "id": "xJxRV4NdVd3T",
        "outputId": "9be1c6b3-8a5d-43b4-91a1-72c009baea3b"
      },
      "outputs": [
        {
          "name": "stdin",
          "output_type": "stream",
          "text": [
            "Saisissez un nombre : 2\n"
          ]
        },
        {
          "name": "stdout",
          "output_type": "stream",
          "text": [
            "Penser a racheter des bonbons\n"
          ]
        }
      ],
      "source": [
        "def boite(nb_bonbon):\n",
        "    '''int->none\n",
        "    preconditions: nb_bonbon>=0\n",
        "    renvoie le message \"penser a racheter des bonbons\" si nb_bonbon<10'''\n",
        "\n",
        "    if nb_bonbon<10:\n",
        "        print('Penser a racheter des bonbons')\n",
        "    else:\n",
        "        if nb_bonbon<30:\n",
        "            print('Il y a encore assez de bonbons')\n",
        "        else:\n",
        "            if nb_bonbon<100:\n",
        "                print('Vous devriez partager avec vos amis')\n",
        "            else:\n",
        "                print('Vous pourriez devenir vendeur de bonbons')\n",
        "\n",
        "x=boite(int(input('Saisissez un nombre :')))"
      ]
    },
    {
      "cell_type": "code",
      "execution_count": null,
      "metadata": {
        "id": "2PgQQiRSVd3T",
        "outputId": "ffdf29be-e68b-47eb-caca-d05ded29c428"
      },
      "outputs": [
        {
          "name": "stdin",
          "output_type": "stream",
          "text": [
            "Saisissez un entier : 2\n",
            "Saisissez un entier : 2\n",
            "-Quel est votre choix ? somme taper s, produit taper p- P\n",
            "-Entré invalide, resaisissez s ou p: s\n"
          ]
        },
        {
          "ename": "UnboundLocalError",
          "evalue": "cannot access local variable 'resultat' where it is not associated with a value",
          "output_type": "error",
          "traceback": [
            "\u001b[0;31m---------------------------------------------------------------------------\u001b[0m",
            "\u001b[0;31mUnboundLocalError\u001b[0m                         Traceback (most recent call last)",
            "Cell \u001b[0;32mIn[3], line 25\u001b[0m\n\u001b[1;32m     22\u001b[0m         choix\u001b[38;5;241m=\u001b[39m\u001b[38;5;28minput\u001b[39m(\u001b[38;5;124m'\u001b[39m\u001b[38;5;124m-Entré invalide, resaisissez s ou p:\u001b[39m\u001b[38;5;124m'\u001b[39m)\n\u001b[1;32m     23\u001b[0m     \u001b[38;5;28;01mreturn\u001b[39;00m resultat\n\u001b[0;32m---> 25\u001b[0m y\u001b[38;5;241m=\u001b[39m\u001b[43msomme_ou_produit\u001b[49m\u001b[43m(\u001b[49m\u001b[43m)\u001b[49m\n\u001b[1;32m     26\u001b[0m \u001b[38;5;28mprint\u001b[39m(y)\n",
            "Cell \u001b[0;32mIn[3], line 23\u001b[0m, in \u001b[0;36msomme_ou_produit\u001b[0;34m()\u001b[0m\n\u001b[1;32m     21\u001b[0m \u001b[38;5;28;01melse\u001b[39;00m:\n\u001b[1;32m     22\u001b[0m     choix\u001b[38;5;241m=\u001b[39m\u001b[38;5;28minput\u001b[39m(\u001b[38;5;124m'\u001b[39m\u001b[38;5;124m-Entré invalide, resaisissez s ou p:\u001b[39m\u001b[38;5;124m'\u001b[39m)\n\u001b[0;32m---> 23\u001b[0m \u001b[38;5;28;01mreturn\u001b[39;00m \u001b[43mresultat\u001b[49m\n",
            "\u001b[0;31mUnboundLocalError\u001b[0m: cannot access local variable 'resultat' where it is not associated with a value"
          ]
        }
      ],
      "source": [
        "def entier():\n",
        "    '''none->int\n",
        "    preconditions: none\n",
        "    renvoie la valeur saisie par l'uilisateur sous type int'''\n",
        "    valeur=int(input('Saisissez un entier :'))\n",
        "    return valeur\n",
        "\n",
        "\n",
        "def somme_ou_produit():\n",
        "    '''none->int\n",
        "    preconditions: none\n",
        "    renvoie la somme des deux entiers saisies pas l'utilisateur'''\n",
        "    int1=entier()\n",
        "    int2=entier()\n",
        "    choix=input('-Quel est votre choix ? somme taper s, produit taper p-')\n",
        "\n",
        "    if choix=='s':\n",
        "        resultat=int1+int2\n",
        "    elif choix=='p':\n",
        "        resultat=int1*int2\n",
        "\n",
        "    return resultat\n",
        "\n",
        "y=somme_ou_produit()\n",
        "print(y)"
      ]
    },
    {
      "cell_type": "code",
      "execution_count": null,
      "metadata": {
        "id": "m3LoFmO5Vd3T"
      },
      "outputs": [],
      "source": [
        "\n",
        "\n",
        "###############                                      TD ET TP CHAPITRE 5                            ################\n",
        "\n",
        "\n"
      ]
    },
    {
      "cell_type": "code",
      "execution_count": null,
      "metadata": {
        "id": "7eao291EVd3U",
        "outputId": "608deeea-ed60-4626-8739-2e334c720783"
      },
      "outputs": [
        {
          "name": "stdin",
          "output_type": "stream",
          "text": [
            "Saisissez un numero de tild inital pour le dessions dans le terminal : 120\n"
          ]
        },
        {
          "name": "stdout",
          "output_type": "stream",
          "text": [
            "~~~~~~~~~~~~~~~~~~~~~~~~~~~~~~~~~~~~~~~~~~~~~~~~~~~~~~~~~~~~~~~~~~~~~~~~~~~~~~~~~~~~~~~~~~~~~~~~~~~~~~~~~~~~~~~~~~~~~~~~\n",
            "~~~~~~~~~~~~~~~~~~~~~~~~~~~~~~~~~~~~~~~~~~~~~~~~~~~~~~~~~~~~~~~~~~~~~~~~~~~~~~~~~~~~~~~~~~~~~~~~~~~~~~~~~~~~~~~~~~~~~~~\n",
            "~~~~~~~~~~~~~~~~~~~~~~~~~~~~~~~~~~~~~~~~~~~~~~~~~~~~~~~~~~~~~~~~~~~~~~~~~~~~~~~~~~~~~~~~~~~~~~~~~~~~~~~~~~~~~~~~~~~~~~\n",
            "~~~~~~~~~~~~~~~~~~~~~~~~~~~~~~~~~~~~~~~~~~~~~~~~~~~~~~~~~~~~~~~~~~~~~~~~~~~~~~~~~~~~~~~~~~~~~~~~~~~~~~~~~~~~~~~~~~~~~\n",
            "~~~~~~~~~~~~~~~~~~~~~~~~~~~~~~~~~~~~~~~~~~~~~~~~~~~~~~~~~~~~~~~~~~~~~~~~~~~~~~~~~~~~~~~~~~~~~~~~~~~~~~~~~~~~~~~~~~~~\n",
            "~~~~~~~~~~~~~~~~~~~~~~~~~~~~~~~~~~~~~~~~~~~~~~~~~~~~~~~~~~~~~~~~~~~~~~~~~~~~~~~~~~~~~~~~~~~~~~~~~~~~~~~~~~~~~~~~~~~\n",
            "~~~~~~~~~~~~~~~~~~~~~~~~~~~~~~~~~~~~~~~~~~~~~~~~~~~~~~~~~~~~~~~~~~~~~~~~~~~~~~~~~~~~~~~~~~~~~~~~~~~~~~~~~~~~~~~~~~\n",
            "~~~~~~~~~~~~~~~~~~~~~~~~~~~~~~~~~~~~~~~~~~~~~~~~~~~~~~~~~~~~~~~~~~~~~~~~~~~~~~~~~~~~~~~~~~~~~~~~~~~~~~~~~~~~~~~~~\n",
            "~~~~~~~~~~~~~~~~~~~~~~~~~~~~~~~~~~~~~~~~~~~~~~~~~~~~~~~~~~~~~~~~~~~~~~~~~~~~~~~~~~~~~~~~~~~~~~~~~~~~~~~~~~~~~~~~\n",
            "~~~~~~~~~~~~~~~~~~~~~~~~~~~~~~~~~~~~~~~~~~~~~~~~~~~~~~~~~~~~~~~~~~~~~~~~~~~~~~~~~~~~~~~~~~~~~~~~~~~~~~~~~~~~~~~\n",
            "~~~~~~~~~~~~~~~~~~~~~~~~~~~~~~~~~~~~~~~~~~~~~~~~~~~~~~~~~~~~~~~~~~~~~~~~~~~~~~~~~~~~~~~~~~~~~~~~~~~~~~~~~~~~~~\n",
            "~~~~~~~~~~~~~~~~~~~~~~~~~~~~~~~~~~~~~~~~~~~~~~~~~~~~~~~~~~~~~~~~~~~~~~~~~~~~~~~~~~~~~~~~~~~~~~~~~~~~~~~~~~~~~\n",
            "~~~~~~~~~~~~~~~~~~~~~~~~~~~~~~~~~~~~~~~~~~~~~~~~~~~~~~~~~~~~~~~~~~~~~~~~~~~~~~~~~~~~~~~~~~~~~~~~~~~~~~~~~~~~\n",
            "~~~~~~~~~~~~~~~~~~~~~~~~~~~~~~~~~~~~~~~~~~~~~~~~~~~~~~~~~~~~~~~~~~~~~~~~~~~~~~~~~~~~~~~~~~~~~~~~~~~~~~~~~~~\n",
            "~~~~~~~~~~~~~~~~~~~~~~~~~~~~~~~~~~~~~~~~~~~~~~~~~~~~~~~~~~~~~~~~~~~~~~~~~~~~~~~~~~~~~~~~~~~~~~~~~~~~~~~~~~\n",
            "~~~~~~~~~~~~~~~~~~~~~~~~~~~~~~~~~~~~~~~~~~~~~~~~~~~~~~~~~~~~~~~~~~~~~~~~~~~~~~~~~~~~~~~~~~~~~~~~~~~~~~~~~\n",
            "~~~~~~~~~~~~~~~~~~~~~~~~~~~~~~~~~~~~~~~~~~~~~~~~~~~~~~~~~~~~~~~~~~~~~~~~~~~~~~~~~~~~~~~~~~~~~~~~~~~~~~~~\n",
            "~~~~~~~~~~~~~~~~~~~~~~~~~~~~~~~~~~~~~~~~~~~~~~~~~~~~~~~~~~~~~~~~~~~~~~~~~~~~~~~~~~~~~~~~~~~~~~~~~~~~~~~\n",
            "~~~~~~~~~~~~~~~~~~~~~~~~~~~~~~~~~~~~~~~~~~~~~~~~~~~~~~~~~~~~~~~~~~~~~~~~~~~~~~~~~~~~~~~~~~~~~~~~~~~~~~\n",
            "~~~~~~~~~~~~~~~~~~~~~~~~~~~~~~~~~~~~~~~~~~~~~~~~~~~~~~~~~~~~~~~~~~~~~~~~~~~~~~~~~~~~~~~~~~~~~~~~~~~~~\n",
            "~~~~~~~~~~~~~~~~~~~~~~~~~~~~~~~~~~~~~~~~~~~~~~~~~~~~~~~~~~~~~~~~~~~~~~~~~~~~~~~~~~~~~~~~~~~~~~~~~~~~\n",
            "~~~~~~~~~~~~~~~~~~~~~~~~~~~~~~~~~~~~~~~~~~~~~~~~~~~~~~~~~~~~~~~~~~~~~~~~~~~~~~~~~~~~~~~~~~~~~~~~~~~\n",
            "~~~~~~~~~~~~~~~~~~~~~~~~~~~~~~~~~~~~~~~~~~~~~~~~~~~~~~~~~~~~~~~~~~~~~~~~~~~~~~~~~~~~~~~~~~~~~~~~~~\n",
            "~~~~~~~~~~~~~~~~~~~~~~~~~~~~~~~~~~~~~~~~~~~~~~~~~~~~~~~~~~~~~~~~~~~~~~~~~~~~~~~~~~~~~~~~~~~~~~~~~\n",
            "~~~~~~~~~~~~~~~~~~~~~~~~~~~~~~~~~~~~~~~~~~~~~~~~~~~~~~~~~~~~~~~~~~~~~~~~~~~~~~~~~~~~~~~~~~~~~~~~\n",
            "~~~~~~~~~~~~~~~~~~~~~~~~~~~~~~~~~~~~~~~~~~~~~~~~~~~~~~~~~~~~~~~~~~~~~~~~~~~~~~~~~~~~~~~~~~~~~~~\n",
            "~~~~~~~~~~~~~~~~~~~~~~~~~~~~~~~~~~~~~~~~~~~~~~~~~~~~~~~~~~~~~~~~~~~~~~~~~~~~~~~~~~~~~~~~~~~~~~\n",
            "~~~~~~~~~~~~~~~~~~~~~~~~~~~~~~~~~~~~~~~~~~~~~~~~~~~~~~~~~~~~~~~~~~~~~~~~~~~~~~~~~~~~~~~~~~~~~\n",
            "~~~~~~~~~~~~~~~~~~~~~~~~~~~~~~~~~~~~~~~~~~~~~~~~~~~~~~~~~~~~~~~~~~~~~~~~~~~~~~~~~~~~~~~~~~~~\n",
            "~~~~~~~~~~~~~~~~~~~~~~~~~~~~~~~~~~~~~~~~~~~~~~~~~~~~~~~~~~~~~~~~~~~~~~~~~~~~~~~~~~~~~~~~~~~\n",
            "~~~~~~~~~~~~~~~~~~~~~~~~~~~~~~~~~~~~~~~~~~~~~~~~~~~~~~~~~~~~~~~~~~~~~~~~~~~~~~~~~~~~~~~~~~\n",
            "~~~~~~~~~~~~~~~~~~~~~~~~~~~~~~~~~~~~~~~~~~~~~~~~~~~~~~~~~~~~~~~~~~~~~~~~~~~~~~~~~~~~~~~~~\n",
            "~~~~~~~~~~~~~~~~~~~~~~~~~~~~~~~~~~~~~~~~~~~~~~~~~~~~~~~~~~~~~~~~~~~~~~~~~~~~~~~~~~~~~~~~\n",
            "~~~~~~~~~~~~~~~~~~~~~~~~~~~~~~~~~~~~~~~~~~~~~~~~~~~~~~~~~~~~~~~~~~~~~~~~~~~~~~~~~~~~~~~\n",
            "~~~~~~~~~~~~~~~~~~~~~~~~~~~~~~~~~~~~~~~~~~~~~~~~~~~~~~~~~~~~~~~~~~~~~~~~~~~~~~~~~~~~~~\n",
            "~~~~~~~~~~~~~~~~~~~~~~~~~~~~~~~~~~~~~~~~~~~~~~~~~~~~~~~~~~~~~~~~~~~~~~~~~~~~~~~~~~~~~\n",
            "~~~~~~~~~~~~~~~~~~~~~~~~~~~~~~~~~~~~~~~~~~~~~~~~~~~~~~~~~~~~~~~~~~~~~~~~~~~~~~~~~~~~\n",
            "~~~~~~~~~~~~~~~~~~~~~~~~~~~~~~~~~~~~~~~~~~~~~~~~~~~~~~~~~~~~~~~~~~~~~~~~~~~~~~~~~~~\n",
            "~~~~~~~~~~~~~~~~~~~~~~~~~~~~~~~~~~~~~~~~~~~~~~~~~~~~~~~~~~~~~~~~~~~~~~~~~~~~~~~~~~\n",
            "~~~~~~~~~~~~~~~~~~~~~~~~~~~~~~~~~~~~~~~~~~~~~~~~~~~~~~~~~~~~~~~~~~~~~~~~~~~~~~~~~\n",
            "~~~~~~~~~~~~~~~~~~~~~~~~~~~~~~~~~~~~~~~~~~~~~~~~~~~~~~~~~~~~~~~~~~~~~~~~~~~~~~~~\n",
            "~~~~~~~~~~~~~~~~~~~~~~~~~~~~~~~~~~~~~~~~~~~~~~~~~~~~~~~~~~~~~~~~~~~~~~~~~~~~~~~\n",
            "~~~~~~~~~~~~~~~~~~~~~~~~~~~~~~~~~~~~~~~~~~~~~~~~~~~~~~~~~~~~~~~~~~~~~~~~~~~~~~\n",
            "~~~~~~~~~~~~~~~~~~~~~~~~~~~~~~~~~~~~~~~~~~~~~~~~~~~~~~~~~~~~~~~~~~~~~~~~~~~~~\n",
            "~~~~~~~~~~~~~~~~~~~~~~~~~~~~~~~~~~~~~~~~~~~~~~~~~~~~~~~~~~~~~~~~~~~~~~~~~~~~\n",
            "~~~~~~~~~~~~~~~~~~~~~~~~~~~~~~~~~~~~~~~~~~~~~~~~~~~~~~~~~~~~~~~~~~~~~~~~~~~\n",
            "~~~~~~~~~~~~~~~~~~~~~~~~~~~~~~~~~~~~~~~~~~~~~~~~~~~~~~~~~~~~~~~~~~~~~~~~~~\n",
            "~~~~~~~~~~~~~~~~~~~~~~~~~~~~~~~~~~~~~~~~~~~~~~~~~~~~~~~~~~~~~~~~~~~~~~~~~\n",
            "~~~~~~~~~~~~~~~~~~~~~~~~~~~~~~~~~~~~~~~~~~~~~~~~~~~~~~~~~~~~~~~~~~~~~~~~\n",
            "~~~~~~~~~~~~~~~~~~~~~~~~~~~~~~~~~~~~~~~~~~~~~~~~~~~~~~~~~~~~~~~~~~~~~~~\n",
            "~~~~~~~~~~~~~~~~~~~~~~~~~~~~~~~~~~~~~~~~~~~~~~~~~~~~~~~~~~~~~~~~~~~~~~\n",
            "~~~~~~~~~~~~~~~~~~~~~~~~~~~~~~~~~~~~~~~~~~~~~~~~~~~~~~~~~~~~~~~~~~~~~\n",
            "~~~~~~~~~~~~~~~~~~~~~~~~~~~~~~~~~~~~~~~~~~~~~~~~~~~~~~~~~~~~~~~~~~~~\n",
            "~~~~~~~~~~~~~~~~~~~~~~~~~~~~~~~~~~~~~~~~~~~~~~~~~~~~~~~~~~~~~~~~~~~\n",
            "~~~~~~~~~~~~~~~~~~~~~~~~~~~~~~~~~~~~~~~~~~~~~~~~~~~~~~~~~~~~~~~~~~\n",
            "~~~~~~~~~~~~~~~~~~~~~~~~~~~~~~~~~~~~~~~~~~~~~~~~~~~~~~~~~~~~~~~~~\n",
            "~~~~~~~~~~~~~~~~~~~~~~~~~~~~~~~~~~~~~~~~~~~~~~~~~~~~~~~~~~~~~~~~\n",
            "~~~~~~~~~~~~~~~~~~~~~~~~~~~~~~~~~~~~~~~~~~~~~~~~~~~~~~~~~~~~~~~\n",
            "~~~~~~~~~~~~~~~~~~~~~~~~~~~~~~~~~~~~~~~~~~~~~~~~~~~~~~~~~~~~~~\n",
            "~~~~~~~~~~~~~~~~~~~~~~~~~~~~~~~~~~~~~~~~~~~~~~~~~~~~~~~~~~~~~\n",
            "~~~~~~~~~~~~~~~~~~~~~~~~~~~~~~~~~~~~~~~~~~~~~~~~~~~~~~~~~~~~\n",
            "~~~~~~~~~~~~~~~~~~~~~~~~~~~~~~~~~~~~~~~~~~~~~~~~~~~~~~~~~~~\n",
            "~~~~~~~~~~~~~~~~~~~~~~~~~~~~~~~~~~~~~~~~~~~~~~~~~~~~~~~~~~\n",
            "~~~~~~~~~~~~~~~~~~~~~~~~~~~~~~~~~~~~~~~~~~~~~~~~~~~~~~~~~\n",
            "~~~~~~~~~~~~~~~~~~~~~~~~~~~~~~~~~~~~~~~~~~~~~~~~~~~~~~~~\n",
            "~~~~~~~~~~~~~~~~~~~~~~~~~~~~~~~~~~~~~~~~~~~~~~~~~~~~~~~\n",
            "~~~~~~~~~~~~~~~~~~~~~~~~~~~~~~~~~~~~~~~~~~~~~~~~~~~~~~\n",
            "~~~~~~~~~~~~~~~~~~~~~~~~~~~~~~~~~~~~~~~~~~~~~~~~~~~~~\n",
            "~~~~~~~~~~~~~~~~~~~~~~~~~~~~~~~~~~~~~~~~~~~~~~~~~~~~\n",
            "~~~~~~~~~~~~~~~~~~~~~~~~~~~~~~~~~~~~~~~~~~~~~~~~~~~\n",
            "~~~~~~~~~~~~~~~~~~~~~~~~~~~~~~~~~~~~~~~~~~~~~~~~~~\n",
            "~~~~~~~~~~~~~~~~~~~~~~~~~~~~~~~~~~~~~~~~~~~~~~~~~\n",
            "~~~~~~~~~~~~~~~~~~~~~~~~~~~~~~~~~~~~~~~~~~~~~~~~\n",
            "~~~~~~~~~~~~~~~~~~~~~~~~~~~~~~~~~~~~~~~~~~~~~~~\n",
            "~~~~~~~~~~~~~~~~~~~~~~~~~~~~~~~~~~~~~~~~~~~~~~\n",
            "~~~~~~~~~~~~~~~~~~~~~~~~~~~~~~~~~~~~~~~~~~~~~\n",
            "~~~~~~~~~~~~~~~~~~~~~~~~~~~~~~~~~~~~~~~~~~~~\n",
            "~~~~~~~~~~~~~~~~~~~~~~~~~~~~~~~~~~~~~~~~~~~\n",
            "~~~~~~~~~~~~~~~~~~~~~~~~~~~~~~~~~~~~~~~~~~\n",
            "~~~~~~~~~~~~~~~~~~~~~~~~~~~~~~~~~~~~~~~~~\n",
            "~~~~~~~~~~~~~~~~~~~~~~~~~~~~~~~~~~~~~~~~\n",
            "~~~~~~~~~~~~~~~~~~~~~~~~~~~~~~~~~~~~~~~\n",
            "~~~~~~~~~~~~~~~~~~~~~~~~~~~~~~~~~~~~~~\n",
            "~~~~~~~~~~~~~~~~~~~~~~~~~~~~~~~~~~~~~\n",
            "~~~~~~~~~~~~~~~~~~~~~~~~~~~~~~~~~~~~\n",
            "~~~~~~~~~~~~~~~~~~~~~~~~~~~~~~~~~~~\n",
            "~~~~~~~~~~~~~~~~~~~~~~~~~~~~~~~~~~\n",
            "~~~~~~~~~~~~~~~~~~~~~~~~~~~~~~~~~\n",
            "~~~~~~~~~~~~~~~~~~~~~~~~~~~~~~~~\n",
            "~~~~~~~~~~~~~~~~~~~~~~~~~~~~~~~\n",
            "~~~~~~~~~~~~~~~~~~~~~~~~~~~~~~\n",
            "~~~~~~~~~~~~~~~~~~~~~~~~~~~~~\n",
            "~~~~~~~~~~~~~~~~~~~~~~~~~~~~\n",
            "~~~~~~~~~~~~~~~~~~~~~~~~~~~\n",
            "~~~~~~~~~~~~~~~~~~~~~~~~~~\n",
            "~~~~~~~~~~~~~~~~~~~~~~~~~\n",
            "~~~~~~~~~~~~~~~~~~~~~~~~\n",
            "~~~~~~~~~~~~~~~~~~~~~~~\n",
            "~~~~~~~~~~~~~~~~~~~~~~\n",
            "~~~~~~~~~~~~~~~~~~~~~\n",
            "~~~~~~~~~~~~~~~~~~~~\n",
            "~~~~~~~~~~~~~~~~~~~\n",
            "~~~~~~~~~~~~~~~~~~\n",
            "~~~~~~~~~~~~~~~~~\n",
            "~~~~~~~~~~~~~~~~\n",
            "~~~~~~~~~~~~~~~\n",
            "~~~~~~~~~~~~~~\n",
            "~~~~~~~~~~~~~\n",
            "~~~~~~~~~~~~\n",
            "~~~~~~~~~~~\n",
            "~~~~~~~~~~\n",
            "~~~~~~~~~\n",
            "~~~~~~~~\n",
            "~~~~~~~\n",
            "~~~~~~\n",
            "~~~~~\n",
            "~~~~\n",
            "~~~\n",
            "~~\n",
            "~\n"
          ]
        }
      ],
      "source": [
        "def triangleA():\n",
        "    '''none-->str\n",
        "    preconditions:none\n",
        "    affiche un triangle rectangle decroissant de tilds'''\n",
        "    n=int(input('Saisissez un numero de tild inital pour le dessions dans le terminal :'))\n",
        "    while n!=0:\n",
        "        print(n*'~')\n",
        "        n=n-1\n",
        "\n",
        "x=triangleA()\n",
        "\n",
        ""
      ]
    },
    {
      "cell_type": "code",
      "execution_count": null,
      "metadata": {
        "id": "EfdAfA3nVd3U",
        "outputId": "55157cb0-083a-44d3-fa72-386c46008412"
      },
      "outputs": [
        {
          "ename": "SyntaxError",
          "evalue": "invalid syntax. Perhaps you forgot a comma? (3171495210.py, line 12)",
          "output_type": "error",
          "traceback": [
            "\u001b[0;36m  Cell \u001b[0;32mIn[5], line 12\u001b[0;36m\u001b[0m\n\u001b[0;31m    print('La valeur du de vaut :'de)\u001b[0m\n\u001b[0m          ^\u001b[0m\n\u001b[0;31mSyntaxError\u001b[0m\u001b[0;31m:\u001b[0m invalid syntax. Perhaps you forgot a comma?\n"
          ]
        }
      ],
      "source": [
        "import random\n",
        "def lancer6a():\n",
        "    '''none->none\n",
        "    preconditions: none\n",
        "    affiche le rsultat de chaque lacé de de jusqu& l'obtention d'un 6'''\n",
        "\n",
        "    #de:int;valeur de la face de de entre 1 et 6\n",
        "    de=0\n",
        "\n",
        "    while de!=6:\n",
        "        de=random.randint(1,6)\n",
        "        print('La valeur du de vaut :'de)\n"
      ]
    },
    {
      "cell_type": "code",
      "execution_count": null,
      "metadata": {
        "id": "mHvp7dPcVd3U",
        "outputId": "b221a002-59c8-4b36-e7fe-79e390498610"
      },
      "outputs": [
        {
          "name": "stdout",
          "output_type": "stream",
          "text": [
            "La valeur du de vaut: 1\n",
            "La valeur du de vaut: 6\n",
            "La valeur du de vaut: 1\n",
            "La valeur du de vaut: 1\n",
            "La valeur du de vaut: 1\n",
            "La valeur du de vaut: 2\n",
            "La valeur du de vaut: 2\n",
            "La valeur du de vaut: 1\n",
            "La valeur du de vaut: 6\n",
            "9\n"
          ]
        }
      ],
      "source": [
        "import random\n",
        "def lancer6c():\n",
        "    '''none ->int\n",
        "    precondition: none\n",
        "    affiche le resultat de chaque lance jusqu'a l'obtention\n",
        "    de deux  et renvoie le nv de tour'''\n",
        "    nb6=0\n",
        "    nb_lances=0\n",
        "    while nb6<2:\n",
        "        de=random.randint(1,6)\n",
        "        print('La valeur du de vaut:',de)\n",
        "        if de==6:\n",
        "            nb6=nb6+1\n",
        "        nb_lances=nb_lances+1\n",
        "    return nb_lances\n",
        "\n",
        "x=lancer6c()\n",
        "print(x)"
      ]
    },
    {
      "cell_type": "code",
      "execution_count": null,
      "metadata": {
        "id": "-Fo_GSjjVd3U"
      },
      "outputs": [],
      "source": [
        "import random\n",
        "def lancerb():\n",
        "    '''none -> int\n",
        "    preconditions: none\n",
        "    affiche e resultat de chaque lancé jusqu'a\n",
        "    l'obtention d'un 6 et renvoie le nb de tour'''\n",
        "\n",
        "    nb_lances=0\n",
        "    de=0\n",
        "\n",
        "    while de!=6:\n",
        "        de=random.randint(1,6)\n",
        "        print('La valeur du dé vaut :',de)\n",
        "        nb_lances=nb_lances +1\n",
        "    return nb_lances\n",
        "x=lancerb()"
      ]
    },
    {
      "cell_type": "code",
      "execution_count": null,
      "metadata": {
        "id": "xPj7Zlu6Vd3V",
        "outputId": "acffa9f1-1b9f-48ca-fc0b-997bc0d1b30f"
      },
      "outputs": [
        {
          "name": "stdout",
          "output_type": "stream",
          "text": [
            "La valeur du de vaut: 5\n",
            "La valeur du de vaut: 2\n",
            "La valeur du de vaut: 6\n",
            "La valeur du de vaut: 5\n",
            "La valeur du de vaut: 5\n",
            "La valeur du de vaut: 2\n",
            "La valeur du de vaut: 1\n",
            "La valeur du de vaut: 6\n",
            "La valeur du de vaut: 5\n",
            "La valeur du de vaut: 3\n",
            "La valeur du de vaut: 4\n",
            "La valeur du de vaut: 4\n",
            "La valeur du de vaut: 5\n",
            "La valeur du de vaut: 1\n",
            "La valeur du de vaut: 4\n",
            "La valeur du de vaut: 1\n",
            "La valeur du de vaut: 6\n",
            "La valeur du de vaut: 4\n",
            "La valeur du de vaut: 3\n",
            "La valeur du de vaut: 5\n",
            "La valeur du de vaut: 3\n",
            "La valeur du de vaut: 4\n",
            "La valeur du de vaut: 2\n",
            "La valeur du de vaut: 1\n",
            "La valeur du de vaut: 5\n",
            "La valeur du de vaut: 5\n",
            "La valeur du de vaut: 3\n",
            "La valeur du de vaut: 2\n",
            "La valeur du de vaut: 5\n",
            "La valeur du de vaut: 3\n",
            "La valeur du de vaut: 6\n",
            "La valeur du de vaut: 2\n",
            "La valeur du de vaut: 2\n",
            "La valeur du de vaut: 2\n",
            "La valeur du de vaut: 3\n",
            "La valeur du de vaut: 1\n",
            "La valeur du de vaut: 4\n",
            "La valeur du de vaut: 6\n",
            "La valeur du de vaut: 1\n",
            "La valeur du de vaut: 6\n",
            "La valeur du de vaut: 3\n",
            "La valeur du de vaut: 5\n",
            "La valeur du de vaut: 4\n",
            "La valeur du de vaut: 6\n",
            "La valeur du de vaut: 2\n",
            "La valeur du de vaut: 6\n",
            "La valeur du de vaut: 5\n",
            "La valeur du de vaut: 6\n",
            "La valeur du de vaut: 5\n",
            "La valeur du de vaut: 4\n",
            "La valeur du de vaut: 6\n",
            "La valeur du de vaut: 2\n",
            "La valeur du de vaut: 4\n",
            "La valeur du de vaut: 6\n",
            "La valeur du de vaut: 1\n",
            "La valeur du de vaut: 1\n",
            "La valeur du de vaut: 6\n",
            "La valeur du de vaut: 4\n",
            "La valeur du de vaut: 2\n",
            "La valeur du de vaut: 4\n",
            "La valeur du de vaut: 4\n",
            "La valeur du de vaut: 3\n",
            "La valeur du de vaut: 1\n",
            "La valeur du de vaut: 3\n",
            "La valeur du de vaut: 2\n",
            "La valeur du de vaut: 2\n",
            "La valeur du de vaut: 1\n",
            "La valeur du de vaut: 4\n",
            "La valeur du de vaut: 4\n",
            "La valeur du de vaut: 1\n",
            "La valeur du de vaut: 6\n",
            "La valeur du de vaut: 6\n",
            "72\n"
          ]
        }
      ],
      "source": [
        "import random\n",
        "def lancer6d():\n",
        "    '''none -> int\n",
        "    preconditions: none\n",
        "    affiche le resultat de chaque lance jusqu'a l'obtention\n",
        "    de deux 6 et envoie le nb de tour'''\n",
        "    nb6=0\n",
        "    nb_lances=0\n",
        "\n",
        "    while nb6<2:\n",
        "        de=random.randint(1,6)\n",
        "        print('La valeur du de vaut:',de)\n",
        "        if de==6:\n",
        "            nb6=nb6+1\n",
        "        else:\n",
        "            nb6=0\n",
        "        nb_lances=nb_lances+1\n",
        "    return nb_lances\n",
        "\n",
        "x=lancer6d()\n",
        "print(x)"
      ]
    },
    {
      "cell_type": "code",
      "execution_count": null,
      "metadata": {
        "id": "z6b4sATvVd3V",
        "outputId": "02081c54-c2a0-43ee-f844-fc673d6e05ac"
      },
      "outputs": [
        {
          "name": "stdin",
          "output_type": "stream",
          "text": [
            "Saisissez le nombre de fois qu'on souhaite obtenir d'un 6, deux ou deux d'affilé : 10000\n"
          ]
        },
        {
          "name": "stdout",
          "output_type": "stream",
          "text": [
            "42.2896\n"
          ]
        }
      ],
      "source": [
        "import random\n",
        "def lancer6b():\n",
        "    '''none -> int\n",
        "    preconditions: none\n",
        "    affiche me resultat de chaque lancé jusqu'a\n",
        "    l'obtention d'un 6 et renvoie le nb de tour'''\n",
        "\n",
        "    nb_lances=0\n",
        "    de=0\n",
        "\n",
        "    while de!=6:\n",
        "        de=random.randint(1,6)\n",
        "        nb_lances=nb_lances +1\n",
        "    return nb_lances\n",
        "\n",
        "def lancer6c():\n",
        "    '''none ->int\n",
        "    precondition: none\n",
        "    affiche le resultat de chaque lance jusqu'a l'obtention\n",
        "    de deux  et renvoie le nv de tour'''\n",
        "    nb6=0\n",
        "    nb_lances=0\n",
        "    while nb6<2:\n",
        "        de=random.randint(1,6)\n",
        "\n",
        "        if de==6:\n",
        "            nb6=nb6+1\n",
        "        nb_lances=nb_lances+1\n",
        "    return nb_lances\n",
        "\n",
        "def lancer6d():\n",
        "    '''none -> int\n",
        "    preconditions: none\n",
        "    affiche le resultat de chaque lance jusqu'a l'obtention\n",
        "    de deux 6 et envoie le nb de tour'''\n",
        "    nb6=0\n",
        "    nb_lances=0\n",
        "\n",
        "    while nb6<2:\n",
        "        de=random.randint(1,6)\n",
        "        if de==6:\n",
        "            nb6=nb6+1\n",
        "        else:\n",
        "            nb6=0\n",
        "        nb_lances=nb_lances+1\n",
        "    return nb_lances\n",
        "\n",
        "def moyenne():\n",
        "    '''none->int\n",
        "    preconditions: lancer6b a deja ete defini\n",
        "    affiche la moyenne de your necessaire jusqu'a\n",
        "    l'obtention d'un 6, deux, ou deux d'affilé'''\n",
        "\n",
        "    total_lancers=0\n",
        "    i=0          #i est un compteur\n",
        "\n",
        "    #N:int; nombre de fois qu'on appelle lancer6b/lancer6c/lancer6d\n",
        "    N=int(input(\"Saisissez le nombre de fois qu'on souhaite obtenir d'un 6, deux ou deux d'affilé :\"))\n",
        "\n",
        "    while i<N:\n",
        "        total_lancers= total_lancers+lancer6d()\n",
        "        i=i+1\n",
        "    resultat=total_lancers/N\n",
        "    return resultat\n",
        "\n",
        "x=moyenne()\n",
        "print(x)"
      ]
    },
    {
      "cell_type": "code",
      "execution_count": null,
      "metadata": {
        "id": "dq1Ad28OVd3V",
        "outputId": "391209b7-ce02-4eaa-8b56-9275d030d0ea"
      },
      "outputs": [
        {
          "name": "stdout",
          "output_type": "stream",
          "text": [
            "A l'annee N 0 , la population comprend 500 individus.\n",
            "A l'annee N 1 , la population comprend 475.0 individus.\n",
            "A l'annee N 2 , la population comprend 522.5 individus.\n"
          ]
        }
      ],
      "source": [
        "def effectif(N0,nb_annees):\n",
        "    '''int*int->int\n",
        "    preconditions: N0>=0 et nb_annees>=0\n",
        "    renvoie l'effectif de la population de taille\n",
        "    initiale N0 au bout de nb_annees années'''\n",
        "    population=N0\n",
        "    i=0      #compte-tour des annees\n",
        "\n",
        "    while i!=nb_annees:\n",
        "        print(\"A l'annee N\",i,\", la population comprend\",population,\"individus.\")\n",
        "        if population<500:\n",
        "            population=1.10*population\n",
        "        else:\n",
        "            population=0.95*population\n",
        "        i=i+1\n",
        "\n",
        "    return population\n",
        "    print (\"La population final est de\",population,\"individus.\")\n",
        "\n",
        "x=effectif(500,3)"
      ]
    },
    {
      "cell_type": "code",
      "execution_count": null,
      "metadata": {
        "id": "pwW_khghVd3W"
      },
      "outputs": [],
      "source": [
        "\n",
        "\n",
        "#############                   TD ET TP CHAPITRE 6          ###############\n",
        "\n",
        "\n"
      ]
    },
    {
      "cell_type": "code",
      "execution_count": null,
      "metadata": {
        "id": "-xhkio9vVd3W",
        "outputId": "4ebf678a-600a-457f-94ae-5374540e65bb"
      },
      "outputs": [
        {
          "name": "stdout",
          "output_type": "stream",
          "text": [
            "La valeur du de vaut : 1\n",
            "La valeur du de vaut : 2\n",
            "La valeur du de vaut : 1\n",
            "La valeur du de vaut : 3\n",
            "La valeur du de vaut : 5\n",
            "La valeur du de vaut : 4\n",
            "La valeur du de vaut : 2\n",
            "La valeur du de vaut : 2\n",
            "La valeur du de vaut : 2\n",
            "La valeur du de vaut : 4\n",
            "La valeur du de vaut : 4\n",
            "La valeur du de vaut : 3\n",
            "La valeur du de vaut : 4\n",
            "La valeur du de vaut : 3\n",
            "La valeur du de vaut : 2\n",
            "La valeur du de vaut : 4\n",
            "La valeur du de vaut : 4\n",
            "La valeur du de vaut : 6\n"
          ]
        }
      ],
      "source": [
        "import random\n",
        "def lancer6a():\n",
        "    '''none->none\n",
        "    preconditions: none\n",
        "    affiche le resultat de chaque lancé de de jusqu'a l'obtention d'un 6'''\n",
        "\n",
        "    #obtenu_6:bool; valeur drapeau pour controler la boucle\n",
        "    obtenu_6=False\n",
        "\n",
        "    while not obtenu_6:\n",
        "        de=random.randint(1,6)\n",
        "        print('La valeur du de vaut :',de)\n",
        "        if de==6:\n",
        "            obtenu_6=True\n",
        "x=lancer6a()\n"
      ]
    },
    {
      "cell_type": "code",
      "execution_count": null,
      "metadata": {
        "id": "QRgXD-3cVd3W",
        "outputId": "64545ab3-f5df-459f-af83-1e9beffc8137"
      },
      "outputs": [
        {
          "name": "stdout",
          "output_type": "stream",
          "text": [
            "False\n"
          ]
        }
      ],
      "source": [
        "def bissextile(annee):\n",
        "    '''int->bool\n",
        "    preconditions: none\n",
        "    renvoie si une annee est bissextile ou non'''\n",
        "    #divisible_par_4:bool; valeur drapeau pour controler la boucle\n",
        "    bissextile=False\n",
        "\n",
        "    if annee%4==0:\n",
        "        bissextile=True\n",
        "        if annee%100==0:\n",
        "            bissextile=False\n",
        "        elif annee%400==0:\n",
        "            bissextile=True\n",
        "\n",
        "    return bissextile\n",
        "\n",
        "x=bissextile(1990)\n",
        "print(x)\n",
        ""
      ]
    },
    {
      "cell_type": "code",
      "execution_count": null,
      "metadata": {
        "id": "mkkIIDNtVd3X",
        "outputId": "ba398c8e-9067-4669-c2c0-880d2c8f24dc"
      },
      "outputs": [
        {
          "name": "stdout",
          "output_type": "stream",
          "text": [
            "False\n"
          ]
        }
      ],
      "source": [
        "def bissextile(annee):\n",
        "    '''int->bool\n",
        "    preconditions: none\n",
        "    renvoie si une annee est bissextile ou non'''\n",
        "\n",
        "    A=annee%4==0\n",
        "    B=annee%100==0\n",
        "    C=annee%400==0\n",
        "\n",
        "    bissextile=False\n",
        "\n",
        "    if (A and not(B)) or C:\n",
        "        bissextile=True\n",
        "\n",
        "    return bissextile\n",
        "\n",
        "x=bissextile(2021)\n",
        "print(x)"
      ]
    },
    {
      "cell_type": "code",
      "execution_count": null,
      "metadata": {
        "id": "4JkNjEfgVd3X"
      },
      "outputs": [],
      "source": [
        "import random\n",
        "def jeu(n):\n",
        "    '''none->bool\n",
        "    preconditions: n > 0\n",
        "    renvoie \"plus petit\" ou \"plus grand\" jusqu'a ce\n",
        "    que l'utilisaterur devine le numero secret avec n tentaives maximales'''\n",
        "    secret=random.randint(1,1000)\n",
        "\n",
        "    guess=0\n",
        "    tentative=0\n",
        "    inf=1\n",
        "    sup=1000\n",
        "    while guess!=secret:\n",
        "        guess=int(input(\"Saisissez un entier:\"))\n",
        "        if guess<secret:\n",
        "            inf=guess\n",
        "            print(\"Plus grand, l'intervalle est\",inf,'<x<',sup)\n",
        "\n",
        "        elif guess==secret:\n",
        "            print(\"C'est gagné. Tentatives: \",tentative)\n",
        "\n",
        "        else:\n",
        "            sup=guess\n",
        "            print(\"Plus petit, l'intervalle est\",inf,'<x<',sup)\n",
        "        tentative=tentative+1\n",
        "\n",
        "    if tentative<n:\n",
        "        if tentative==1:\n",
        "            print(\"Le score final est 10\")\n",
        "        print(\"Le score final est 1\")\n",
        "    else:\n",
        "        print(\"Le score final est 0\")\n",
        "\n",
        "\n",
        "x=jeu(10)\n",
        "\n",
        ""
      ]
    },
    {
      "cell_type": "code",
      "execution_count": null,
      "metadata": {
        "id": "i5DVdcstVd3X",
        "outputId": "d32f6a44-5328-478f-c77f-a5ab261ad9f6"
      },
      "outputs": [
        {
          "data": {
            "text/plain": [
              "(14, -11)"
            ]
          },
          "execution_count": 5,
          "metadata": {},
          "output_type": "execute_result"
        }
      ],
      "source": [
        "import random\n",
        "def coord_depart():\n",
        "\t'''none->int*int\n",
        "\tpreconditions: none\n",
        "\trenvoie les coordonnées x et y initiales aléatoires du robot sur le plateau'''\n",
        "\n",
        "\t#xi:int; coordonnée de l’abscisse\n",
        "\txi=random.randint(-20,20)\n",
        "\t#yi:int;coordonnee de l’ordonnée\n",
        "\tyi=random.randint(-20,20)\n",
        "\n",
        "\treturn xi,yi\n",
        "\n",
        "\tprint(\"(\",xi,\";\",yi,\")\")\n",
        "\n",
        "coord_depart()"
      ]
    },
    {
      "cell_type": "code",
      "execution_count": null,
      "metadata": {
        "id": "N1WcXqOQVd3X"
      },
      "outputs": [],
      "source": [
        "import random\n",
        "def tombe(x,y):\n",
        "\t'''int*int->bool\n",
        "\tpreconditions: none\n",
        "\trenvoie Vrai si les coordonnées x et y sont en dehors\n",
        "    du plateau et Faux sinon'''\n",
        "\n",
        "\t#dehors_plateau:bool; le robot a des coordonnées en dehors du plateau\n",
        "\tdehors_plateau=True\n",
        "\n",
        "\tif -20<=x<=20 and -20<=y<=20:\n",
        "\t\tdehors_plateau=False\n",
        "\n",
        "\treturn dehors_plateau\n",
        "\n",
        "tombe(10,30)"
      ]
    },
    {
      "cell_type": "code",
      "execution_count": null,
      "metadata": {
        "id": "a_yMGrPAVd3Y"
      },
      "outputs": [],
      "source": [
        "import random\n",
        "def deplace(x,y):\n",
        "\t'''int*int—>int*int\n",
        "\tpreconditions: none\n",
        "\trenvoie les nouvelles coordonnées x et y du robot sur\n",
        "     le plateau apres déplacement'''\n",
        "\n",
        "\t#x:int; coordonnée de l’abscisse initiale\n",
        "\tnew_x=x+(random.randint(-10,10))\n",
        "\t#y:int;coordonnee de l’ordonnée initiale\n",
        "\tnew_y=y+(random.randint(-10,10))\n",
        "\n",
        "\treturn new_x,new_y\n",
        "\n",
        "\tprint(\"(\",new_x,\";\",new_y,\")\")\n",
        "\n",
        "deplace(0,0)"
      ]
    },
    {
      "cell_type": "code",
      "execution_count": null,
      "metadata": {
        "id": "o0T0_3igVd3Y"
      },
      "outputs": [],
      "source": [
        "import random\n",
        "def tombe(x,y):\n",
        "\t'''int*int->bool\n",
        "\tpreconditions: none\n",
        "\trenvoie Vrai si les coordonnées x et y sont en dehors\n",
        "    du plateau et Faux sinon'''\n",
        "\n",
        "\t#dehors_plateau:bool; le robot a des coordonnées en dehors du plateau\n",
        "\tdehors_plateau=True\n",
        "\n",
        "\tif -20<=x<=20 and -20<=y<=20:\n",
        "\t\tdehors_plateau=False\n",
        "\n",
        "\treturn dehors_plateau\n",
        "\n",
        "def deplace(x,y):\n",
        "\t'''int*int—>int*int\n",
        "\tpreconditions: none\n",
        "\trenvoie les nouvelles coordonnées x et y du robot sur\n",
        "     le plateau apres déplacement'''\n",
        "\n",
        "\t#x:int; coordonnée de l’abscisse initiale\n",
        "\tnew_x=x+(random.randint(-10,10))\n",
        "\t#y:int;coordonnee de l’ordonnée initiale\n",
        "\tnew_y=y+(random.randint(-10,10))\n",
        "\n",
        "\treturn new_x,new_y\n",
        "\n",
        "\n",
        "\n",
        "def simule(x,y):\n",
        "\t'''int*int—>int\n",
        "\tPreconditions: coordonne initiales du robot dont définis sur le plateau\n",
        "\trenvoie le nombre de mouvements du robot jusqu’a ce qu’il tombe du plateau'''\n",
        "\n",
        "\t#n:int;compte-tours\n",
        "\tn=0\n",
        "\n",
        "\n",
        "\twhile not tombe(x,y):\n",
        "\t\tx,y=deplace(x,y)\n",
        "\t\tn=n+1\n",
        "\n",
        "\treturn n\n",
        "\n",
        "x_initial,y_initial =0,0\n",
        "nombre_de_mouvements= simule(x_initial,y_initial)\n",
        "print(\"Le robot est tombe apres\",nombre_de_mouvements,\"mouvements.\")"
      ]
    },
    {
      "cell_type": "code",
      "execution_count": null,
      "metadata": {
        "id": "mRVrBdvMVd3Y"
      },
      "outputs": [],
      "source": [
        "-------------- TD6 ------------------"
      ]
    },
    {
      "cell_type": "code",
      "execution_count": null,
      "metadata": {
        "id": "e7EWSgnCVd3Y",
        "outputId": "dd57e447-bbdb-44d1-c329-e5a976155edd"
      },
      "outputs": [
        {
          "name": "stdout",
          "output_type": "stream",
          "text": [
            "1   canard\n",
            "2   hirondelle\n",
            "3   blaireau\n",
            "4   lapin\n",
            "5   vache\n"
          ]
        }
      ],
      "source": [
        "def afficheliste(L):\n",
        "    '''list[str]\n",
        "    preconditions: none\n",
        "    affiche la liste avec chaque element precede de son nulero de ligne'''\n",
        "\n",
        "    #i: int; compte-tours\n",
        "    i=0\n",
        "\n",
        "    while i < len(L) :\n",
        "        print((i+1),' ',L[i])\n",
        "        i=i+1\n",
        "L= ['canard','hirondelle','blaireau','lapin','vache']\n",
        "x= afficheliste(L)\n"
      ]
    },
    {
      "cell_type": "code",
      "execution_count": null,
      "metadata": {
        "scrolled": true,
        "id": "8VFkC7wQVd3Y",
        "outputId": "64e88b5e-8c95-40e9-f092-9d0812d800a9"
      },
      "outputs": [
        {
          "name": "stdout",
          "output_type": "stream",
          "text": [
            "['bleu', 'rose', 'vert', 'jaune']\n"
          ]
        }
      ],
      "source": [
        "def debut(lc,n):\n",
        "    '''list[str]\n",
        "    preconditons: none\n",
        "    affiche la liste des n premieres chaines '''\n",
        "\n",
        "    return(lc[:n])\n",
        "\n",
        "liste_couleure=['bleu','rose','vert','jaune','violet','noir','blanc']\n",
        "x=debut(liste_couleure,4)\n",
        "print(x)\n",
        "\n",
        "assert(debut(liste_couleure,3))==['bleu', 'rose', 'vert']\n",
        "assert(debut(liste_couleure,2))==['bleu', 'rose']"
      ]
    },
    {
      "cell_type": "code",
      "execution_count": null,
      "metadata": {
        "id": "-vJCI2XUVd3Z",
        "outputId": "ab4e10ca-6772-42c9-b4e5-58727e073962"
      },
      "outputs": [
        {
          "name": "stdout",
          "output_type": "stream",
          "text": [
            "['canard', 'hirondelle', 'blaireau', 'lapin']\n"
          ]
        }
      ],
      "source": [
        "def tranche(lc,d,n):\n",
        "    '''list[str]\n",
        "    preconditons: none\n",
        "    affiche la liste des n premieres chaines '''\n",
        "\n",
        "    return(lc[d-1:n])\n",
        "\n",
        "L= ['canard','hirondelle','blaireau','lapin','vache']\n",
        "x=tranche(L,1,4)\n",
        "print(x)\n",
        "\n",
        "assert(tranche(L,1,2))==['canard', 'hirondelle']\n",
        "assert(tranche(L,2,5))==['hirondelle', 'blaireau', 'lapin', 'vache']"
      ]
    },
    {
      "cell_type": "code",
      "execution_count": null,
      "metadata": {
        "id": "dEG1Mq7OVd3Z",
        "outputId": "140b213b-4a65-4894-ee15-85ffdde9366f"
      },
      "outputs": [
        {
          "name": "stdout",
          "output_type": "stream",
          "text": [
            "[27.27]\n"
          ]
        }
      ],
      "source": [
        "import random\n",
        "def juillet(na):\n",
        "    '''int->list[str]\n",
        "    preconditions: none\n",
        "    renvoie la liste des tempertaures du 15 juillet sur na années'''\n",
        "\n",
        "    #i:int; compte-tours\n",
        "    i=0\n",
        "    #L:List[float];liste des teperatures du 15/07 sur na annees\n",
        "    L=[ ]\n",
        "\n",
        "    while i<na:\n",
        "        t=round(20.6 + random.random() * 10.2, 2)\n",
        "        L.append(t)\n",
        "        i=i+1\n",
        "    return L\n",
        "\n",
        "x=juillet(5)\n",
        "\n",
        "\n",
        "def moyenne(lnb):\n",
        "    '''list[float]->float\n",
        "    preconditions : none\n",
        "    renvoie la moyenne des elements de lnb'''\n",
        "\n",
        "    #i:int; compte-tours\n",
        "    i=0\n",
        "    #s:float; somme des elements\n",
        "    s=0\n",
        "\n",
        "    while i <len(lnb):\n",
        "        s=s+lnb[i]\n",
        "        i=i+1\n",
        "    return round(s/len(lnb),2)\n",
        "\n",
        "y=moyenne(juillet(5))\n",
        "\n",
        "\n",
        "def moyennes_glissantes(lnb,lf):\n",
        "    '''int*int-->list[float]\n",
        "    preconditions: none\n",
        "    renvoie la liste des moyennes glissantes de longuere f'''\n",
        "\n",
        "    #i:int;compte-tours\n",
        "    a=0\n",
        "    #L:list[float];liste des moyenne glissantes\n",
        "    L=[]\n",
        "    #f:int:fenetre\n",
        "\n",
        "\n",
        "    while a < len(lnb)-lf:\n",
        "        moy_fenetre=round(moyenne(lnb[a:a+lf]),2)\n",
        "        L.append(moy_fenetre)\n",
        "        a=a+1\n",
        "\n",
        "    return L\n",
        "z=moyennes_glissantes(juillet(100),2)\n",
        "print(z)\n",
        ""
      ]
    },
    {
      "cell_type": "code",
      "execution_count": null,
      "metadata": {
        "id": "HCXWDhKHVd3Z",
        "outputId": "15d30038-1dc5-40cd-fe85-bf95d97a9eb1"
      },
      "outputs": [
        {
          "name": "stdin",
          "output_type": "stream",
          "text": [
            "Choisissez la longueure de la sequence nucleotidique : 4\n"
          ]
        },
        {
          "name": "stdout",
          "output_type": "stream",
          "text": [
            "['A', 'A', 'T', 'C']\n"
          ]
        }
      ],
      "source": [
        "import random\n",
        "def seq1lea(n):\n",
        "    '''int->list[str]\n",
        "    preconditions : n > 0\n",
        "    renvoie une liste nucleotidique aleatoire de n elements'''\n",
        "\n",
        "    #L:list[str]:sequence nucleotidique\n",
        "    L = []\n",
        "    #i:int; compte-tours\n",
        "    i=0\n",
        "    #liste_nucleo:list[str]; liste des nucleotides possibles\n",
        "    liste_nucleo = ['A','C','T','G']\n",
        "\n",
        "    while i<n:\n",
        "        nucleotide=random.randint(0,3)\n",
        "        L.append(liste_nucleo[nucleotide])\n",
        "        i=i+1\n",
        "\n",
        "    return L\n",
        "\n",
        "n=int(input('Choisissez la longueure de la sequence nucleotidique :'))\n",
        "x=seq1lea(n)\n",
        "print(x)\n",
        "\n",
        "def gc(seq):\n",
        "    '''list[str]--> float\n",
        "    preconditions:none\n",
        "    renvoie le taux de g et c dans la sequence'''\n",
        "\n",
        "    sequence=x\n",
        "    nombre_GC=0\n",
        "\n",
        "    while i<len\n"
      ]
    },
    {
      "cell_type": "code",
      "execution_count": null,
      "metadata": {
        "id": "qzIfYqKxVd3Z",
        "outputId": "34e6d322-c1d5-4940-bf3b-a736e5092301"
      },
      "outputs": [
        {
          "ename": "SyntaxError",
          "evalue": "invalid syntax (3267538819.py, line 1)",
          "output_type": "error",
          "traceback": [
            "\u001b[0;36m  Cell \u001b[0;32mIn[1], line 1\u001b[0;36m\u001b[0m\n\u001b[0;31m    -------- EXERCICES DE TOP\u001b[0m\n\u001b[0m                       ^\u001b[0m\n\u001b[0;31mSyntaxError\u001b[0m\u001b[0;31m:\u001b[0m invalid syntax\n"
          ]
        }
      ],
      "source": [
        "-------- EXERCICES DE TP N8 -----------------"
      ]
    },
    {
      "cell_type": "code",
      "execution_count": null,
      "metadata": {
        "id": "F-9fPRgDVd3a",
        "outputId": "daeb3967-c0cc-46be-86b1-e5dac6a068c2"
      },
      "outputs": [
        {
          "name": "stdout",
          "output_type": "stream",
          "text": [
            "67\n"
          ]
        }
      ],
      "source": [
        "def MaxList(L):\n",
        "    '''List[float] --> float\n",
        "    preconditions\n",
        "    renvoie la valeur la plus elevee dans une liste de nombres entiers ou reels'''\n",
        "\n",
        "    #max:float; varible max\n",
        "    max=0.0\n",
        "\n",
        "    for i in range(len(L)):\n",
        "        if L[i] > max:\n",
        "            max=L[i]\n",
        "\n",
        "    return max\n",
        "\n",
        "ListeEssai = [1, 4.6, 1.2, 67, 4]\n",
        "x=MaxList(ListeEssai)\n",
        "print(x)\n",
        "\n",
        "ListeEssai2 = [2, 7.8, 34, 6, 46]\n",
        "\n",
        "assert MaxList(ListeEssai2)==46"
      ]
    },
    {
      "cell_type": "code",
      "execution_count": null,
      "metadata": {
        "id": "0GMFSSQkVd3a",
        "outputId": "40e22cad-102a-4085-8b3b-cd3870f4030c"
      },
      "outputs": [
        {
          "name": "stdout",
          "output_type": "stream",
          "text": [
            "2\n"
          ]
        }
      ],
      "source": [
        "def Nb_Occurence(L,e):\n",
        "    '''List[int]*int --> int\n",
        "    Preconditions : none\n",
        "    renvoie le nombre de repetitions de e dans la liste L'''\n",
        "\n",
        "    #nb_e: int; compteur de repetitions de e\n",
        "    nb_e=0\n",
        "    for i in range(len(L)):\n",
        "        if L[i]==e:\n",
        "            nb_e=nb_e+1\n",
        "\n",
        "    return nb_e\n",
        "\n",
        "ListeEssai = [1, 1, 6, 3, 4]\n",
        "x=Nb_Occurence(ListeEssai, 1)\n",
        "print(x)\n",
        "\n",
        "ListeEssai2 = [3, 5, 3, 3, 5, 3, 9]\n",
        "\n",
        "assert Nb_Occurence(ListeEssai2,3)==4"
      ]
    },
    {
      "cell_type": "code",
      "execution_count": null,
      "metadata": {
        "id": "4LKBCcB8Vd3b",
        "outputId": "8897a7f0-46b5-47f3-a5c1-a2a48417f689"
      },
      "outputs": [
        {
          "name": "stdout",
          "output_type": "stream",
          "text": [
            "3\n"
          ]
        }
      ],
      "source": [
        "def MaxList(L):\n",
        "    '''List[float] --> float\n",
        "    preconditions\n",
        "    renvoie la valeur la plus elevee dans une liste de nombres entiers ou reels'''\n",
        "\n",
        "    #max:float; varible max\n",
        "    max=0.0\n",
        "\n",
        "    for i in range(len(L)):\n",
        "        if L[i] > max:\n",
        "            max=L[i]\n",
        "\n",
        "    return max\n",
        "\n",
        "ListeEssai = [1, 4.6, 1.2, 67, 4]\n",
        "x=MaxList(ListeEssai)\n",
        "\n",
        "\n",
        "def Nb_Occurence(L,e):\n",
        "    '''List[int]*float --> int\n",
        "    Preconditions : none\n",
        "    renvoie le nombre de repetitions de e dans la liste L'''\n",
        "\n",
        "    #nb_e: int; compteur de repetitions de e\n",
        "    nb_e=0\n",
        "    for i in range(len(L)):\n",
        "        if L[i]==e:\n",
        "            nb_e=nb_e+1\n",
        "\n",
        "    return nb_e\n",
        "\n",
        "ListeEssai2 = [1, 1, 6, 3, 4]\n",
        "y=Nb_Occurence(ListeEssai2, 1)\n",
        "\n",
        "def Max_Occur(L):\n",
        "    '''List[float]*float --> int\n",
        "    preconditions: none\n",
        "    renvoie le nombre de repetitions de la valeure maximale de la liste'''\n",
        "\n",
        "    #max:int;valeure\n",
        "    max=MaxList(L)\n",
        "\n",
        "    nombre_repet_de_max = Nb_Occurence(L,max)\n",
        "\n",
        "    return nombre_repet_de_max\n",
        "\n",
        "ListeEssai3 = [3, 2, -5, 5, 4, 5, 5]\n",
        "z=Max_Occur(ListeEssai3)\n",
        "print(z)\n",
        "\n",
        ""
      ]
    },
    {
      "cell_type": "code",
      "execution_count": null,
      "metadata": {
        "id": "Pqsv06NiVd3b",
        "outputId": "d3915642-4953-4c62-da32-c40949016d7f"
      },
      "outputs": [
        {
          "name": "stdout",
          "output_type": "stream",
          "text": [
            "(5, 3)\n"
          ]
        }
      ],
      "source": [
        "def Max_OccurBis(L):\n",
        "    '''List[float]-> float*int\n",
        "    preconditions: none\n",
        "    Renvoie en 1 seule boucle for la valeure maximale\n",
        "    et son nombre de repetions dans la liste L'''\n",
        "\n",
        "    #max:float;valeure max\n",
        "    max=L[0]\n",
        "\n",
        "    #nb_max:int; nombre de repetitions de la valeure max\n",
        "    nb_max=1\n",
        "\n",
        "    for i in range(1,len(L)):\n",
        "        if L[i]>max:\n",
        "            max=L[i]\n",
        "            nb_max =1\n",
        "        elif L[i]==max:\n",
        "            nb_max=nb_max+1\n",
        "\n",
        "    return max, nb_max\n",
        "\n",
        "\n",
        "ListeEssai = [3, 2, -5, 5, 4, 5, 5]\n",
        "x=Max_OccurBis(ListeEssai)\n",
        "print(x)"
      ]
    },
    {
      "cell_type": "code",
      "execution_count": null,
      "metadata": {
        "id": "lJQxrqSlVd3b",
        "outputId": "d2bf7704-6dd4-4bf8-bdf9-34cbf6ebf0ea"
      },
      "outputs": [
        {
          "name": "stdout",
          "output_type": "stream",
          "text": [
            "2.71\n"
          ]
        }
      ],
      "source": [
        "def MoyList(L):\n",
        "    '''List[int]-->float\n",
        "    preconditions: none\n",
        "    renvoie la moyenne de la liste donné'''\n",
        "\n",
        "    #somme:int;somme des valeurs\n",
        "    somme= 0\n",
        "\n",
        "    for i in range(len(L)):\n",
        "        somme=somme+L[i]\n",
        "\n",
        "    moyenne=round(somme/len(L),2)\n",
        "\n",
        "    return moyenne\n",
        "\n",
        "ListeEssai = [3, 2, -5, 5, 4, 5, 5]\n",
        "x= MoyList(ListeEssai)\n",
        "print(x)"
      ]
    },
    {
      "cell_type": "code",
      "execution_count": null,
      "metadata": {
        "id": "teQm40btVd3c",
        "outputId": "bc074f71-2bd7-43be-af19-a56944e0df71"
      },
      "outputs": [
        {
          "name": "stdout",
          "output_type": "stream",
          "text": [
            "[9, 4, 25, 25, 16, 25, 25]\n"
          ]
        }
      ],
      "source": [
        "def CarreList(L):\n",
        "    '''List[int] -> List[int]\n",
        "    preconditions: none\n",
        "    renvoie une liste ou des carres de la liste L'''\n",
        "\n",
        "    ListeCarre = [ ]\n",
        "\n",
        "    for i in range(len(L)):\n",
        "        ListeCarre.append(L[i]**2)\n",
        "\n",
        "    return ListeCarre\n",
        "\n",
        "ListeEssai = [3, 2, -5, 5, 4, 5, 5]\n",
        "x=CarreList(ListeEssai)\n",
        "print(x)"
      ]
    },
    {
      "cell_type": "code",
      "execution_count": null,
      "metadata": {
        "id": "1TZuhbtVVd3c",
        "outputId": "a652edfa-d170-49e9-d487-5bc01de2c4fe"
      },
      "outputs": [
        {
          "name": "stdout",
          "output_type": "stream",
          "text": [
            "10.119935770547164\n"
          ]
        }
      ],
      "source": [
        "import math\n",
        "\n",
        "def MoyList(L):\n",
        "    '''List[int]-->float\n",
        "    preconditions: none\n",
        "    renvoie la moyenne de la liste donné'''\n",
        "\n",
        "    #somme:int;somme des valeurs\n",
        "    somme= 0\n",
        "\n",
        "    for i in range(len(L)):\n",
        "        somme=somme+L[i]\n",
        "\n",
        "    moyenne=round(somme/len(L),2)\n",
        "\n",
        "    return moyenne\n",
        "\n",
        "def CarreList(L):\n",
        "    '''List[int] -> List[int]\n",
        "    preconditions: none\n",
        "    renvoie une liste ou des carres de la liste L'''\n",
        "\n",
        "    ListeCarre = [ ]\n",
        "\n",
        "    for i in range(len(L)):\n",
        "        ListeCarre.append(L[i]**2)\n",
        "\n",
        "    return ListeCarre\n",
        "\n",
        "def ecart_type(L):\n",
        "    '''List[float] --> float\n",
        "    preconditions: none\n",
        "    renvoie l'ecart-type de cette serie'''\n",
        "\n",
        "\n",
        "    Variance = MoyList(CarreList(L)) - ((MoyList(L))**2)\n",
        "    Ecart_type = math.sqrt(Variance)\n",
        "\n",
        "    return Ecart_type\n",
        "\n",
        "ListeEssai3 =[22.6, -6.9, 14.8, 21.7, 11.3, 23.1, 3.3, 5.1]\n",
        "z=ecart_type(ListeEssai3)\n",
        "print(z)"
      ]
    },
    {
      "cell_type": "code",
      "execution_count": null,
      "metadata": {
        "id": "OMpq4X9MVd3c",
        "outputId": "f1f2c541-ac10-47fb-f3d8-0b06fc8c9eea"
      },
      "outputs": [
        {
          "name": "stdout",
          "output_type": "stream",
          "text": [
            "[1, 2, 3, 4, 5, 6]\n"
          ]
        }
      ],
      "source": [
        "def intercale(L1, L2):\n",
        "    '''List[int)*List[int] --> List[int]\n",
        "    preconditions: none\n",
        "    renvoie l'intercalement des deux listes'''\n",
        "\n",
        "    #L3:List[int]; liste intercalee de L1 et L2\n",
        "    L3 = []\n",
        "\n",
        "    for i in range(len(L1)):\n",
        "        L3.append(L1[i])\n",
        "        L3.append(L2[i])\n",
        "\n",
        "    return L3\n",
        "\n",
        "ListEssai1= [1, 3, 5]\n",
        "ListEssai2= [2, 4, 6]\n",
        "x=intercale(ListEssai1, ListEssai2)\n",
        "print(x)"
      ]
    },
    {
      "cell_type": "code",
      "execution_count": null,
      "metadata": {
        "id": "-abxyMACVd3d",
        "outputId": "f3b863a6-2313-49f1-961e-45eba847e7a1"
      },
      "outputs": [
        {
          "name": "stdout",
          "output_type": "stream",
          "text": [
            "['B', 'i', 'o', 'I', 'n', 'f', 'o']\n"
          ]
        }
      ],
      "source": [
        "def intercale(Lpetite, Lgrande):\n",
        "    '''List[str]*List[str] --> List[str]\n",
        "    preconditions: none\n",
        "    renvoie l'intercalement des deux listes'''\n",
        "\n",
        "    #L3:List[int]; liste intercalee de Lpetite et Lgrande\n",
        "    L3 = []\n",
        "\n",
        "    for i in range(len(Lpetite)):\n",
        "        L3.append(Lpetite[i])\n",
        "        L3.append(Lgrande[i])\n",
        "\n",
        "    for i in range((len(Lgrande)-(len(Lpetite)+1)),len(Lgrande)):\n",
        "        L3.append(Lgrande[i])\n",
        "    return L3\n",
        "\n",
        "Listpetite= ['B', 'o']\n",
        "Listgrande= ['i', 'I', 'n', 'f', 'o']\n",
        "x=intercale(Listpetite, Listgrande)\n",
        "print(x)"
      ]
    },
    {
      "cell_type": "code",
      "execution_count": null,
      "metadata": {
        "id": "QQMaSoszVd3d",
        "outputId": "59d5e265-a1fb-4288-9500-25c7f7128f26"
      },
      "outputs": [
        {
          "ename": "IndentationError",
          "evalue": "unindent does not match any outer indentation level (<tokenize>, line 12)",
          "output_type": "error",
          "traceback": [
            "\u001b[0;36m  File \u001b[0;32m<tokenize>:12\u001b[0;36m\u001b[0m\n\u001b[0;31m    for i in range(len(chaine)):\u001b[0m\n\u001b[0m    ^\u001b[0m\n\u001b[0;31mIndentationError\u001b[0m\u001b[0;31m:\u001b[0m unindent does not match any outer indentation level\n"
          ]
        }
      ],
      "source": [
        "def position_toutes_occurence(chaine, c) :\n",
        "\t'''str * str —> liste[int]\n",
        "\tpreconditions : len(c)==1\n",
        "\trenvoie toutes les occurrences du caractere c dans la chaine chaine'''\n",
        "\n",
        "\t#i:int; indice\n",
        "\ti=0\n",
        "\n",
        "\t#l:liste[int]; liste des positions\n",
        "\tl=[]\n",
        "\n",
        "    for i in range(len(chaine)):\n",
        "        if chaine[i]==c:\n",
        "            l.append(i)\n",
        "\n",
        "\treturn l\n",
        "\n",
        "\n",
        "chaine_utilisateur = input(\"Entrez une chaine de caractères :\")\n",
        "c_utilisateur = input(\"Entrez le caractère que vous souhaitez chercher :\")\n",
        "\n",
        "assert(len(c_utilisateur))==1\n",
        "\n",
        "résultat=position_toutes_occurence(chaine_utilisateur, c_utilisateur)\n",
        "\n",
        "if len(résultat) ==0 :\n",
        "\tprint(\"Erreur : il n’y a pas le caractère \",c_utilisateur,\"dans la chaine entrée\")\n",
        "else:\n",
        "\t#l2:liste[int]; liste des résultats sous forme humain\n",
        "\tl2 = []\n",
        "\t\tfor i in l[i] :\n",
        "\t\t\tl2.append(i+1)\n",
        "\n",
        "return l2"
      ]
    },
    {
      "cell_type": "code",
      "execution_count": null,
      "metadata": {
        "scrolled": true,
        "id": "CM2HwoNZVd3d",
        "outputId": "6f081eec-9588-451f-97ad-e3a5f5950458"
      },
      "outputs": [
        {
          "name": "stdout",
          "output_type": "stream",
          "text": [
            "0\n",
            "1\n",
            "2\n",
            "3\n",
            "4\n",
            "5\n",
            "6\n",
            "7\n",
            "8\n",
            "9\n",
            "10\n",
            "\n",
            "0\n",
            "2\n",
            "4\n",
            "6\n",
            "8\n",
            "10\n",
            "12\n",
            "14\n",
            "16\n",
            "18\n",
            "20\n",
            "\n",
            "0\n",
            "3\n",
            "6\n",
            "9\n",
            "12\n",
            "15\n",
            "18\n",
            "21\n",
            "24\n",
            "27\n",
            "30\n",
            "\n",
            "0\n",
            "4\n",
            "8\n",
            "12\n",
            "16\n",
            "20\n",
            "24\n",
            "28\n",
            "32\n",
            "36\n",
            "40\n",
            "\n",
            "0\n",
            "5\n",
            "10\n",
            "15\n",
            "20\n",
            "25\n",
            "30\n",
            "35\n",
            "40\n",
            "45\n",
            "50\n",
            "\n",
            "0\n",
            "6\n",
            "12\n",
            "18\n",
            "24\n",
            "30\n",
            "36\n",
            "42\n",
            "48\n",
            "54\n",
            "60\n",
            "\n",
            "0\n",
            "7\n",
            "14\n",
            "21\n",
            "28\n",
            "35\n",
            "42\n",
            "49\n",
            "56\n",
            "63\n",
            "70\n",
            "\n",
            "0\n",
            "8\n",
            "16\n",
            "24\n",
            "32\n",
            "40\n",
            "48\n",
            "56\n",
            "64\n",
            "72\n",
            "80\n",
            "\n",
            "0\n",
            "9\n",
            "18\n",
            "27\n",
            "36\n",
            "45\n",
            "54\n",
            "63\n",
            "72\n",
            "81\n",
            "90\n",
            "\n",
            "0\n",
            "10\n",
            "20\n",
            "30\n",
            "40\n",
            "50\n",
            "60\n",
            "70\n",
            "80\n",
            "90\n",
            "100\n",
            "\n",
            "None\n"
          ]
        }
      ],
      "source": [
        "#exercice 73\n",
        "def tablesDeMultiplication():\n",
        "    x=1\n",
        "    while x <= 10:\n",
        "        y = 0\n",
        "        while y <= 10:\n",
        "            print(y*x)\n",
        "            y = y + 1\n",
        "        x = x + 1\n",
        "        print()\n",
        "    return\n",
        "\n",
        "z=tablesDeMultiplication()\n",
        "print(z)"
      ]
    },
    {
      "cell_type": "code",
      "execution_count": null,
      "metadata": {
        "id": "Q3A5HYBnVd3e"
      },
      "outputs": [],
      "source": [
        "def tablesMulti2():\n",
        "    x=1\n",
        "    for x in range (1,11):\n",
        "        y=0\n",
        "        for y in range(11):\n",
        "            print(x*y)\n",
        "            y = y + 1\n",
        "        x = x + 1\n",
        "        print()\n",
        "    return\n",
        "\n",
        "z=tablesMulti2()\n",
        "print(z)"
      ]
    },
    {
      "cell_type": "code",
      "execution_count": null,
      "metadata": {
        "id": "at7gGl2pVd3e",
        "outputId": "55559b1c-e5d8-4bba-91a7-a29ecb0580f1"
      },
      "outputs": [
        {
          "name": "stdout",
          "output_type": "stream",
          "text": [
            "i= 0 j= 0\n",
            "i= 0 j= 1\n",
            "i= 0 j= 2\n",
            "i= 0 j= 3\n",
            "i= 0 j= 4\n",
            "i= 0 j= 5\n",
            "i= 1 j= 0\n",
            "i= 1 j= 1\n",
            "i= 1 j= 2\n",
            "i= 1 j= 3\n",
            "i= 1 j= 4\n",
            "i= 1 j= 5\n",
            "i= 2 j= 0\n",
            "i= 2 j= 1\n",
            "i= 2 j= 2\n",
            "i= 2 j= 3\n",
            "i= 2 j= 4\n",
            "i= 2 j= 5\n",
            "i= 3 j= 0\n",
            "i= 3 j= 1\n",
            "i= 3 j= 2\n",
            "i= 3 j= 3\n",
            "i= 3 j= 4\n",
            "i= 3 j= 5\n",
            "i= 4 j= 0\n",
            "i= 4 j= 1\n",
            "i= 4 j= 2\n",
            "i= 4 j= 3\n",
            "i= 4 j= 4\n",
            "i= 4 j= 5\n",
            "30\n"
          ]
        }
      ],
      "source": [
        "def nb_couples_intervalle(n,p):\n",
        "    '''int*int-->int\n",
        "    preconditions : n<=p\n",
        "    renvoie le nombre de couples (i,j) appartenant a l'intervalle [n,p]'''\n",
        "\n",
        "    i=0\n",
        "    nb_couple=0\n",
        "    while i<=n:\n",
        "        j=0\n",
        "        while j<=p:\n",
        "            print('i=',i,'j=',j)\n",
        "            nb_couple=nb_couple+1\n",
        "            j=j+1\n",
        "        i=i+1\n",
        "\n",
        "    return nb_couple\n",
        "\n",
        "z=nb_couples_intervalle(4,5)\n",
        "print(z)\n",
        ""
      ]
    },
    {
      "cell_type": "code",
      "execution_count": null,
      "metadata": {
        "scrolled": true,
        "id": "ZKI00IAZVd3f",
        "outputId": "d7874a34-c449-49e5-8d09-ebc931750649"
      },
      "outputs": [
        {
          "name": "stdout",
          "output_type": "stream",
          "text": [
            "Pour i= 0 :\n",
            "i= 0 j= 1\n",
            "i= 0 j= 2\n",
            "i= 0 j= 3\n",
            "i= 0 j= 4\n",
            "i= 0 j= 5\n",
            "\n",
            "Pour i= 1 :\n",
            "i= 1 j= 2\n",
            "i= 1 j= 3\n",
            "i= 1 j= 4\n",
            "i= 1 j= 5\n",
            "\n",
            "Pour i= 2 :\n",
            "i= 2 j= 3\n",
            "i= 2 j= 4\n",
            "i= 2 j= 5\n",
            "\n",
            "Pour i= 3 :\n",
            "i= 3 j= 4\n",
            "i= 3 j= 5\n",
            "\n",
            "Pour i= 4 :\n",
            "i= 4 j= 5\n",
            "\n",
            "15\n"
          ]
        }
      ],
      "source": [
        "def nb_couples_distincts_intervalle(n,p):\n",
        "    '''int*int-->int\n",
        "    preconditions : n<=p\n",
        "    renvoie le nombre de couples (i,j) appartenant a l'intervalle [n,p]'''\n",
        "\n",
        "    i=0\n",
        "    nb_couple=0\n",
        "    while i<=n:\n",
        "        j=0\n",
        "        print('Pour i=',i,':')\n",
        "        while j<=p:\n",
        "            if i<j:\n",
        "                print('i=',i,'j=',j)\n",
        "                nb_couple=nb_couple+1\n",
        "            j=j+1\n",
        "        i=i+1\n",
        "        print()\n",
        "\n",
        "    return nb_couple\n",
        "\n",
        "z=nb_couples_distincts_intervalle(4,5)\n",
        "print(z)"
      ]
    },
    {
      "cell_type": "code",
      "execution_count": null,
      "metadata": {
        "id": "P0TeSkoMVd3f",
        "outputId": "19ec544f-d01f-4552-9a32-e033fbb3c3f3"
      },
      "outputs": [
        {
          "name": "stdout",
          "output_type": "stream",
          "text": [
            "[25.066666666666663, 25.933333333333337, 27.0, 26.03333333333333, 26.833333333333332, 24.0, 22.833333333333332, 21.633333333333336, 22.866666666666664, 23.03333333333333, 24.900000000000002, 27.099999999999998]\n"
          ]
        }
      ],
      "source": [
        "def moyennes_glissantes(lnb,lf):\n",
        "    '''Liste[float]*int-->Liste[float]\n",
        "    preconditions : none\n",
        "    renvoie la liste des moyennes glissantes de lnb\n",
        "\n",
        "    sur une fenetre de longueure lf'''\n",
        "\n",
        "    #d:int;debut de la fenetre\n",
        "    d=0\n",
        "    #liste_glissante:Liste[float]; liste resultat des moyennes glissantes\n",
        "    liste_glissante= []\n",
        "    for i in range(d,len(lnb)-lf+1):\n",
        "        sum_f_i=0\n",
        "\n",
        "        for j in range(i,i+lf):\n",
        "            sum_f_i=sum_f_i+lnb[j]\n",
        "            i=i+1\n",
        "\n",
        "        liste_glissante.append(sum_f_i/lf-1)\n",
        "        d=d+1\n",
        "\n",
        "    return liste_glissante\n",
        "temp_juillet=[25,24.3,28.9,27.6,27.5,26,30,19,22.5,26.4,22.7,23,32,29.3]\n",
        "z=moyennes_glissantes(temp_juillet,3)\n",
        "print(z)"
      ]
    },
    {
      "cell_type": "code",
      "execution_count": null,
      "metadata": {
        "id": "rfR127w5Vd3f"
      },
      "outputs": [],
      "source": [
        "def tir_insertion(desordonnee):\n",
        "    '''Liste(int)-->liste[int]\n",
        "    preconditions: none\n",
        "    renvoie une liste ordonnee de la liste en argument'''\n",
        "\n",
        "    triee=[desordonnee[0]]\n",
        "    i=1\n",
        "    while i <len(desordonnee):\n",
        "        k=desordonnee[i]\n",
        "        j=0\n",
        "\n",
        "        while j<len(triee) and k>triee[j]:\n",
        "            j=j+1\n",
        "\n",
        "\n",
        "        triee.insert(j,k)\n",
        "        i=i+1\n",
        "    return triee\n",
        "\n",
        "example= [3,1,8,6,2,4,9]\n",
        "z=tir_insertion(example)\n",
        "print(z)"
      ]
    },
    {
      "cell_type": "code",
      "execution_count": null,
      "metadata": {
        "id": "hccI_WBGVd3f",
        "outputId": "6bd74864-3d26-457e-80df-ecb3a9d69f59"
      },
      "outputs": [
        {
          "name": "stdout",
          "output_type": "stream",
          "text": [
            "1 canard\n",
            "2 hirondelle\n",
            "3 blaireau\n",
            "4 lapin\n",
            "5 vache\n",
            "None\n"
          ]
        }
      ],
      "source": [
        "def afficheliste(liste):\n",
        "    '''List[str]-->int * str\n",
        "    preconditions : none\n",
        "    renvoie les elements de la liste precedes par un numero de ligne en comptant comme un huamin'''\n",
        "\n",
        "    i=0\n",
        "\n",
        "    while i<len(liste) :\n",
        "        print(i+1, liste[i])\n",
        "        i=i+1\n",
        "    return\n",
        "\n",
        "L = ['canard','hirondelle','blaireau','lapin','vache']\n",
        "x=afficheliste(L)\n",
        "print(x)"
      ]
    },
    {
      "cell_type": "code",
      "execution_count": null,
      "metadata": {
        "id": "YrIHioShVd3g",
        "outputId": "a08d9861-cf2f-40e1-ea42-9926d5c9be4f"
      },
      "outputs": [
        {
          "name": "stdout",
          "output_type": "stream",
          "text": [
            "['canard', 'hirondelle', 'blaireau']\n"
          ]
        }
      ],
      "source": [
        "def debut(lc,n):\n",
        "    '''List[str]*int --> List[str]\n",
        "    preconditions: none\n",
        "    renvoie la liste formée des n premiers elements de la liste lc'''\n",
        "\n",
        "    L = [ ]\n",
        "\n",
        "    i=0\n",
        "\n",
        "    while i < n :\n",
        "        L.append(lc[i])\n",
        "        i=i+1\n",
        "    return L\n",
        "\n",
        "L = ['canard','hirondelle','blaireau','lapin','vache']\n",
        "x=debut(L,3)\n",
        "print(x)"
      ]
    },
    {
      "cell_type": "code",
      "execution_count": null,
      "metadata": {
        "id": "Ac_oZlyEVd3g",
        "outputId": "0afc5341-9345-495f-9f79-bf6353a5562c"
      },
      "outputs": [
        {
          "name": "stdout",
          "output_type": "stream",
          "text": [
            "['hirondelle', 'blaireau', 'lapin']\n"
          ]
        }
      ],
      "source": [
        "def tranche(lc,d,n):\n",
        "    '''List[str]*int*int))>List[str]\n",
        "    preconditions : none\n",
        "    renvoie la liste formée de n elements de lc a partir du dieme'''\n",
        "\n",
        "    L =[]\n",
        "\n",
        "    i=d-1\n",
        "\n",
        "    while i< d+n-1 :\n",
        "        L.append(lc[i])\n",
        "        i=i+1\n",
        "    return L\n",
        "\n",
        "L = ['canard','hirondelle','blaireau','lapin','vache']\n",
        "x=tranche(L,2,3)\n",
        "print(x)"
      ]
    },
    {
      "cell_type": "code",
      "execution_count": null,
      "metadata": {
        "id": "vPKJug_5Vd3g",
        "outputId": "7c754978-a797-41f7-89d6-b18387d01bee"
      },
      "outputs": [
        {
          "name": "stdout",
          "output_type": "stream",
          "text": [
            "[28.1, 29.1, 22.5, 21.2, 23.8]\n"
          ]
        }
      ],
      "source": [
        "import random\n",
        "def juillet(na):\n",
        "    '''int->List[float]\n",
        "    preconditons : none\n",
        "    renvoie une liste de na arugments de temperature le 15 de juillet sur les na années'''\n",
        "\n",
        "    L=[]\n",
        "\n",
        "    i=0\n",
        "    while i<na:\n",
        "        n=round(random.random()*(30.8-20.6)+20.6,1)\n",
        "        L.append(n)\n",
        "        i=i+1\n",
        "\n",
        "    return L\n",
        "\n",
        "x=juillet(5)\n",
        "print(x)"
      ]
    },
    {
      "cell_type": "code",
      "execution_count": null,
      "metadata": {
        "id": "Ur9dgRx3Vd3g",
        "outputId": "07dc8145-8e2a-4d9d-8ab4-445db80ae5bc"
      },
      "outputs": [
        {
          "name": "stdout",
          "output_type": "stream",
          "text": [
            "24.94\n"
          ]
        }
      ],
      "source": [
        "def moyenne(lnb):\n",
        "    '''list[float]-->float\n",
        "    preconditions : none\n",
        "    renvoie la moyenne des elements de la liste passée en argument'''\n",
        "\n",
        "    somme=0\n",
        "    i=0\n",
        "\n",
        "    while i<len(lnb):\n",
        "        somme=somme+L[i]\n",
        "        i=i+1\n",
        "\n",
        "    return somme/i\n",
        "\n",
        "L= [28.1, 29.1, 22.5, 21.2, 23.8]\n",
        "x=moyenne(L)\n",
        "print(x)"
      ]
    },
    {
      "cell_type": "code",
      "execution_count": null,
      "metadata": {
        "id": "W98xhS5oVd3g",
        "outputId": "e4fd7217-ebd1-4864-add4-ef9f03c95e44"
      },
      "outputs": [
        {
          "ename": "IndentationError",
          "evalue": "unindent does not match any outer indentation level (<tokenize>, line 6)",
          "output_type": "error",
          "traceback": [
            "\u001b[0;36m  File \u001b[0;32m<tokenize>:6\u001b[0;36m\u001b[0m\n\u001b[0;31m    L=[]\u001b[0m\n\u001b[0m    ^\u001b[0m\n\u001b[0;31mIndentationError\u001b[0m\u001b[0;31m:\u001b[0m unindent does not match any outer indentation level\n"
          ]
        }
      ],
      "source": [
        " def moyennes_glissantes(lnb,lf):\n",
        "     '''List[float]*int-->list[float]\n",
        "     preconditions: none\n",
        "     renvoie la liste des moyennes gliddantes de longueur f'''\n",
        "\n",
        "    L=[]\n",
        "\n",
        "    depart=0\n",
        "    while depart<(len(lnb)-lf):\n",
        "        i=depart\n",
        "\n",
        "        while i<lf:\n",
        "            l_fenetre.append(L[i])\n",
        "            i=i+1\n",
        "\n",
        "        moyenne_fenetre=moyenne(l_fenetre)\n",
        "        L.append(moyenne_fenetre)\n",
        "        depart=depart+1\n",
        "\n",
        "    return L\n",
        "\n",
        "lnb=juillet(20)\n",
        "x=moyennes_glissantes(lnb,3)\n",
        "print(x)"
      ]
    },
    {
      "cell_type": "code",
      "execution_count": null,
      "metadata": {
        "id": "rxMamf_dVd3g",
        "outputId": "9c2455d1-4e2a-4b7f-975d-292b17747575"
      },
      "outputs": [
        {
          "name": "stdout",
          "output_type": "stream",
          "text": [
            "69\n"
          ]
        }
      ],
      "source": [
        "def maxlist(L):\n",
        "    '''list[float]-->float\n",
        "    preconditons : none\n",
        "    renvoie la valeure la plus grande de la liste'''\n",
        "\n",
        "    #k;float: variable de stockage\n",
        "    k=L[0]\n",
        "\n",
        "    for i in range(len(L)):\n",
        "        if L[i-1]<L[i]:\n",
        "            k=L[i]\n",
        "\n",
        "    return k\n",
        "\n",
        "liste_ex=[1,4.6,1.2,67,4]\n",
        "x=maxlist(liste_ex)\n",
        "print(x)"
      ]
    },
    {
      "cell_type": "code",
      "execution_count": null,
      "metadata": {
        "id": "b_JOfDWRVd3g",
        "outputId": "29b1063f-b995-4e09-9293-7c113a5f7477"
      },
      "outputs": [
        {
          "name": "stdout",
          "output_type": "stream",
          "text": [
            "3\n"
          ]
        }
      ],
      "source": [
        "def nb_occurence(L,e):\n",
        "    '''List[int]*int-->int\n",
        "    preconditions: none\n",
        "    renvoie le nombre d'occurences de e'''\n",
        "\n",
        "\n",
        "    #compteur:int; compteur de nombre d'occurence de e\n",
        "    compteur=0\n",
        "    for i in range(len(L)):\n",
        "        if L[i]==e:\n",
        "            compteur=compteur+1\n",
        "\n",
        "    return compteur\n",
        "\n",
        "list_ex=[1,1,6,3,4,1]\n",
        "x=nb_occurence(list_ex,1)\n",
        "print(x)"
      ]
    },
    {
      "cell_type": "code",
      "execution_count": null,
      "metadata": {
        "id": "juomgG0yVd3h",
        "outputId": "9e26f7c5-a1b4-4e72-942e-723e3c25faef"
      },
      "outputs": [
        {
          "name": "stdout",
          "output_type": "stream",
          "text": [
            "1\n"
          ]
        }
      ],
      "source": [
        "def maxlist(L):\n",
        "    '''list[float]-->float\n",
        "    preconditons : none\n",
        "    renvoie la valeure la plus grande de la liste'''\n",
        "\n",
        "    #k;float: variable de stockage\n",
        "    k=L[0]\n",
        "\n",
        "    for i in range(len(L)):\n",
        "        if L[i-1]<L[i]:\n",
        "            k=L[i]\n",
        "\n",
        "    return k\n",
        "\n",
        "def nb_occurence(L,e):\n",
        "    '''List[int]*int-->int\n",
        "    preconditions: none\n",
        "    renvoie le nombre d'occurences de e'''\n",
        "\n",
        "\n",
        "    #compteur:int; compteur de nombre d'occurence de e\n",
        "    compteur=0\n",
        "    for i in range(len(L)):\n",
        "        if L[i]==e:\n",
        "            compteur=compteur+1\n",
        "\n",
        "    return compteur\n",
        "\n",
        "def max_occur(L):\n",
        "    '''List[int]-->int\n",
        "    preconditions: none\n",
        "    renvoie le nombre d'occurence de la valeure maximale'''\n",
        "\n",
        "    e=maxlist(L)\n",
        "\n",
        "    return nb_occurence(L,e)\n",
        "\n",
        "list_ex=[1,1,6,3,4,1]\n",
        "x=max_occur(list_ex)\n",
        "print(x)"
      ]
    },
    {
      "cell_type": "code",
      "execution_count": null,
      "metadata": {
        "id": "EuFi57m6Vd3h",
        "outputId": "0d119907-4af6-4e92-a958-3f48600500a5"
      },
      "outputs": [
        {
          "name": "stdout",
          "output_type": "stream",
          "text": [
            "(6, 4)\n"
          ]
        }
      ],
      "source": [
        "def max_occurbis(L):\n",
        "    '''List[int]-->int*int\n",
        "    preconditions : none\n",
        "    renvoie la valeure maximal et son nombre d'apparitions'''\n",
        "\n",
        "    compteur=1\n",
        "    valeure_max=L[0]\n",
        "    for i in L[1:]:\n",
        "       if i>valeure_max:\n",
        "           valeure_max=i\n",
        "           compteur=1\n",
        "       elif i==valeure_max:\n",
        "           compteur=compteur+1\n",
        "\n",
        "    return valeure_max,compteur\n",
        "\n",
        "list_ex=[1,1,6,3,4,1,6,6,4,3,6]\n",
        "x=max_occurbis(list_ex)\n",
        "print(x)"
      ]
    },
    {
      "cell_type": "code",
      "execution_count": null,
      "metadata": {
        "scrolled": true,
        "id": "X4GGNc8_Vd3h",
        "outputId": "3569dbd2-18e2-4b16-9626-525f7499588f"
      },
      "outputs": [
        {
          "name": "stdout",
          "output_type": "stream",
          "text": [
            "10.11\n"
          ]
        }
      ],
      "source": [
        "import math\n",
        "def moylist(L):\n",
        "    '''list[float]-->float\n",
        "    preconditions : none\n",
        "    renvoie la moyenne des elements de la liste passée en argument'''\n",
        "\n",
        "    somme=0\n",
        "    i=0\n",
        "\n",
        "    while i<len(L):\n",
        "        somme=somme+L[i]\n",
        "        i=i+1\n",
        "\n",
        "    return somme/i\n",
        "\n",
        "def carrelist(L):\n",
        "    '''list[int]-->list[int]\n",
        "    preconditions:none\n",
        "    renvoie la liste des carres des elements de L'''\n",
        "\n",
        "    L_carre=[]\n",
        "\n",
        "    for i in L:\n",
        "        L_carre.append(i**2)\n",
        "\n",
        "    return L_carre\n",
        "\n",
        "import math\n",
        "def ecart_type(L):\n",
        "    '''List[float]-->float\n",
        "    preconditions : none\n",
        "    renvoie l'ecart type d'une liste de nombres passée en argument'''\n",
        "\n",
        "    variance= moylist(carrelist(L))-(moylist(L)**2)\n",
        "    ecart_type=round(math.sqrt(variance),2)\n",
        "\n",
        "    return ecart_type\n",
        "\n",
        "list_ex=[1,5,8,3,2,9,3,4,2]\n",
        "list_ex2=[22.6,-6.9,14.8,21.7,11.3,23.1,3.3,5.1]\n",
        "x=ecart_type(list_ex2)\n",
        "print(x)"
      ]
    },
    {
      "cell_type": "code",
      "execution_count": null,
      "metadata": {
        "id": "raW3PonyVd3h",
        "outputId": "473fda9b-bfee-47ac-b558-9c6111005ed2"
      },
      "outputs": [
        {
          "ename": "IndexError",
          "evalue": "list index out of range",
          "output_type": "error",
          "traceback": [
            "\u001b[0;31m---------------------------------------------------------------------------\u001b[0m",
            "\u001b[0;31mIndexError\u001b[0m                                Traceback (most recent call last)",
            "Cell \u001b[0;32mIn[4], line 18\u001b[0m\n\u001b[1;32m     16\u001b[0m l1\u001b[38;5;241m=\u001b[39m[\u001b[38;5;241m1\u001b[39m,\u001b[38;5;241m3\u001b[39m,\u001b[38;5;241m5\u001b[39m]\n\u001b[1;32m     17\u001b[0m l2\u001b[38;5;241m=\u001b[39m[\u001b[38;5;241m2\u001b[39m,\u001b[38;5;241m4\u001b[39m,\u001b[38;5;241m6\u001b[39m]\n\u001b[0;32m---> 18\u001b[0m x\u001b[38;5;241m=\u001b[39m\u001b[43mintercale\u001b[49m\u001b[43m(\u001b[49m\u001b[43ml1\u001b[49m\u001b[43m,\u001b[49m\u001b[43ml2\u001b[49m\u001b[43m)\u001b[49m\n\u001b[1;32m     19\u001b[0m \u001b[38;5;28mprint\u001b[39m(x)\n",
            "Cell \u001b[0;32mIn[4], line 12\u001b[0m, in \u001b[0;36mintercale\u001b[0;34m(l1, l2)\u001b[0m\n\u001b[1;32m     10\u001b[0m         L\u001b[38;5;241m.\u001b[39mappend(l1[k])\n\u001b[1;32m     11\u001b[0m     \u001b[38;5;28;01melse\u001b[39;00m:\n\u001b[0;32m---> 12\u001b[0m         L\u001b[38;5;241m.\u001b[39mappend(\u001b[43ml2\u001b[49m\u001b[43m[\u001b[49m\u001b[43mk\u001b[49m\u001b[43m]\u001b[49m)\n\u001b[1;32m     13\u001b[0m     k\u001b[38;5;241m=\u001b[39mk\u001b[38;5;241m+\u001b[39m\u001b[38;5;241m1\u001b[39m\n\u001b[1;32m     14\u001b[0m \u001b[38;5;28;01mreturn\u001b[39;00m L\n",
            "\u001b[0;31mIndexError\u001b[0m: list index out of range"
          ]
        }
      ],
      "source": [
        "def\n",
        "    L=[]\n",
        "    k=0\n",
        "    for i in range(len(l1)+len(l2)):\n",
        "        if i%2==0:\n",
        "            L.append(l1[k])\n",
        "        else:\n",
        "            L.append(l2[k])\n",
        "        k=k+1\n",
        "    return L\n",
        "\n",
        "l1=[1,3,5]\n",
        "l2=[2,4,6]\n",
        "x=intercale(l1,l2)\n",
        "print(x)\n"
      ]
    },
    {
      "cell_type": "code",
      "execution_count": null,
      "metadata": {
        "id": "T-RPKNhkVd3h",
        "outputId": "5832879f-44c9-45dc-df7f-3989f09a1536"
      },
      "outputs": [
        {
          "name": "stdout",
          "output_type": "stream",
          "text": [
            "[1, 2, 3, 4, 5, 6, 8, 10, 12, 14]\n"
          ]
        }
      ],
      "source": [
        "def intercale_generale(l1,l2):\n",
        "    '''list[int]*List[int]-->List[int]\n",
        "    preconditions: none\n",
        "    renvoie l'intercallement des deux listes jusqua la fin de la petite liste puis on ajout a la chaine les elements de la grande liste'''\n",
        "\n",
        "    L=[]\n",
        "    longueur_min=len(l1)\n",
        "    for i in range(longueur_min):\n",
        "        L.append(l1[i])\n",
        "        L.append(l2[i])\n",
        "\n",
        "    for i in range(longueur_min,len(l2)):\n",
        "        L.append(l2[i])\n",
        "\n",
        "    return L\n",
        "\n",
        "l1=[1,3,5]\n",
        "l2=[2,4,6,8,10,12,14]\n",
        "x=intercale_generale(l1,l2)\n",
        "print(x)\n"
      ]
    },
    {
      "cell_type": "code",
      "execution_count": null,
      "metadata": {
        "id": "Jdip4eijVd3h",
        "outputId": "f3bf69d0-5dc1-407f-fa65-3f8d5edad841"
      },
      "outputs": [
        {
          "name": "stdout",
          "output_type": "stream",
          "text": [
            "[' Do', ' Mi', ' Sol']\n"
          ]
        }
      ],
      "source": [
        "def mystere(chaine):\n",
        "    '''str-->str\n",
        "    preconditions :\n",
        "    renvoie'''\n",
        "\n",
        "    #L\n",
        "    L=[]\n",
        "\n",
        "    #m\n",
        "    m=' '\n",
        "\n",
        "    #k\n",
        "    for k in chaine:\n",
        "        if k!=' ':\n",
        "            m=m+k\n",
        "        else:\n",
        "            L.append(m)\n",
        "            m=' '\n",
        "\n",
        "    if m!=' ':\n",
        "        L.append(m)\n",
        "    return L\n",
        "\n",
        "x=mystere('Do Mi Sol')\n",
        "print(x)"
      ]
    },
    {
      "cell_type": "code",
      "execution_count": null,
      "metadata": {
        "id": "90j6C_VTVd3i",
        "outputId": "2e70fc51-d384-4f1f-f777-6c49b683357d"
      },
      "outputs": [
        {
          "ename": "MemoryError",
          "evalue": "",
          "output_type": "error",
          "traceback": [
            "\u001b[0;31m---------------------------------------------------------------------------\u001b[0m",
            "\u001b[0;31mMemoryError\u001b[0m                               Traceback (most recent call last)",
            "Cell \u001b[0;32mIn[1], line 23\u001b[0m\n\u001b[1;32m     19\u001b[0m         palindrome\u001b[38;5;241m=\u001b[39m\u001b[38;5;28;01mTrue\u001b[39;00m\n\u001b[1;32m     21\u001b[0m     \u001b[38;5;28;01mreturn\u001b[39;00m palindrome\n\u001b[0;32m---> 23\u001b[0m x\u001b[38;5;241m=\u001b[39m\u001b[43mpalindromique\u001b[49m\u001b[43m(\u001b[49m\u001b[38;5;124;43m'\u001b[39;49m\u001b[38;5;124;43msolos\u001b[39;49m\u001b[38;5;124;43m'\u001b[39;49m\u001b[43m)\u001b[49m\n\u001b[1;32m     24\u001b[0m \u001b[38;5;28mprint\u001b[39m(x)\n",
            "Cell \u001b[0;32mIn[1], line 15\u001b[0m, in \u001b[0;36mpalindromique\u001b[0;34m(chaine)\u001b[0m\n\u001b[1;32m     13\u001b[0m i\u001b[38;5;241m=\u001b[39m\u001b[38;5;28mlen\u001b[39m(chaine)\u001b[38;5;241m-\u001b[39m\u001b[38;5;241m1\u001b[39m\n\u001b[1;32m     14\u001b[0m \u001b[38;5;28;01mwhile\u001b[39;00m i\u001b[38;5;241m>\u001b[39m\u001b[38;5;241m-\u001b[39m\u001b[38;5;241m1\u001b[39m:\n\u001b[0;32m---> 15\u001b[0m     \u001b[43ma_lenvers\u001b[49m\u001b[38;5;241;43m.\u001b[39;49m\u001b[43mappend\u001b[49m\u001b[43m(\u001b[49m\u001b[43mchaine\u001b[49m\u001b[43m[\u001b[49m\u001b[43mi\u001b[49m\u001b[43m]\u001b[49m\u001b[43m)\u001b[49m\n\u001b[1;32m     16\u001b[0m     i\u001b[38;5;241m-\u001b[39m\u001b[38;5;241m1\u001b[39m\n\u001b[1;32m     18\u001b[0m \u001b[38;5;28;01mif\u001b[39;00m a_lendroit\u001b[38;5;241m==\u001b[39ma_lenvers:\n",
            "\u001b[0;31mMemoryError\u001b[0m: "
          ]
        }
      ],
      "source": [
        "def palindromique(chaine):\n",
        "    '''str-->bool\n",
        "    preconditions: none\n",
        "    renvoie le bool correspondant a savoir si la chaine de caractere est palindromique'''\n",
        "\n",
        "\n",
        "    palindrome=False\n",
        "\n",
        "    for i in range(len(chaine)):\n",
        "        a_lendroit.append(chaine[i])\n",
        "\n",
        "    i=len(chaine)-1\n",
        "    while i>-1:\n",
        "        a_lenvers.append(chaine[i])\n",
        "        i-1\n",
        "\n",
        "    if a_lendroit==a_lenvers:\n",
        "        palindrome=True\n",
        "\n",
        "    return palindrome\n",
        "\n",
        "x=palindromique('solos')\n",
        "print(x)\n"
      ]
    },
    {
      "cell_type": "code",
      "execution_count": null,
      "metadata": {
        "id": "A5QY2gpUVd3i",
        "outputId": "07bb8a1c-f6b8-452e-c408-dd63e4136b02"
      },
      "outputs": [
        {
          "name": "stdout",
          "output_type": "stream",
          "text": [
            "1\n"
          ]
        }
      ],
      "source": [
        "def nbsub(seqa,seqb):\n",
        "    '''str*str-->int\n",
        "    preconditions:seqa et seqb sont de la meme taille\n",
        "    renvoie le nombre de substitutions necessaire pour passer des deqa a seqb'''\n",
        "\n",
        "    nbsub=0\n",
        "\n",
        "    for i in range(len(seqa)):\n",
        "        j=i\n",
        "        if seqa[i]!=seqb[j]:\n",
        "            nbsub=nbsub+1\n",
        "\n",
        "    return nbsub\n",
        "x=nbsub('GATTCT','GATTGT')\n",
        "print(x)"
      ]
    },
    {
      "cell_type": "code",
      "execution_count": null,
      "metadata": {
        "id": "g37xgK4wVd3i",
        "outputId": "307231dc-45ce-4443-9bb3-66f56acc0691"
      },
      "outputs": [
        {
          "name": "stdout",
          "output_type": "stream",
          "text": [
            "1\n",
            "6\n"
          ]
        }
      ],
      "source": [
        "def nbsub(seqa,seqb):\n",
        "    '''str*str-->int\n",
        "    preconditions:seqa et seqb sont de la meme taille\n",
        "    renvoie le nombre de substitutions necessaire pour passer des deqa a seqb'''\n",
        "\n",
        "    nbsub=0\n",
        "\n",
        "    for i in range(len(seqa)):\n",
        "        j=i\n",
        "        if seqa[i]!=seqb[j]:\n",
        "            nbsub=nbsub+1\n",
        "\n",
        "    return nbsub\n",
        "\n",
        "def reperer_motif(sequence, motif):\n",
        "    '''str*str-->int\n",
        "    preconditions: on considere que le motif est assez similaire si nbsub<1\n",
        "    renvoie la localisation du debut du motif dans la sequence'''\n",
        "\n",
        "    n = len(motif)\n",
        "    debut = 0\n",
        "\n",
        "    while debut <= len(sequence) - n:\n",
        "        sous_sequence = sequence[debut:debut + n]\n",
        "        if nbsub(motif, sous_sequence) < 1:\n",
        "            return debut\n",
        "        debut += 1\n",
        "\n",
        "    return -1  # Retourne -1 si le motif n'est pas trouvé\n",
        "\n",
        "x=reperer_motif('GATGCGTAGCTA','TAG')\n",
        "print(x)"
      ]
    },
    {
      "cell_type": "code",
      "execution_count": null,
      "metadata": {
        "id": "TR_v75__Vd3i",
        "outputId": "3c10bd21-7eaa-4340-c4a8-cebe798bbef6"
      },
      "outputs": [
        {
          "name": "stdin",
          "output_type": "stream",
          "text": [
            "Tapez une sequence: ATGCTAGTCATTAAGCTACTGATCTAGTACTGATC\n",
            "Tapez un motif: TCAG\n"
          ]
        },
        {
          "name": "stdout",
          "output_type": "stream",
          "text": [
            "La meilleure position du motif va de 7 à 10\n",
            "Le motif est present à 1 substitution(s) pres\n"
          ]
        }
      ],
      "source": [
        "def nbsub(seqa,seqb):\n",
        "    '''str*str-->int\n",
        "    preconditions:seqa et seqb sont de la meme taille\n",
        "    renvoie le nombre de substitutions necessaire pour passer des deqa a seqb'''\n",
        "\n",
        "    nbsub=0\n",
        "\n",
        "    for i in range(len(seqa)):\n",
        "        j=i\n",
        "        if seqa[i]!=seqb[j]:\n",
        "            nbsub=nbsub+1\n",
        "\n",
        "    return nbsub\n",
        "\n",
        "def reperer_meilleur_motif(sequence,motif):\n",
        "    '''str*str-->int*int\n",
        "    preconditions: moti plus court que sequence\n",
        "    retourne l'indice du premier nucleotide de la region de la sequence ressemblant l eplus au motif ainsi que le nombre de substitutions'''\n",
        "\n",
        "    length=len(motif)\n",
        "    debut=0\n",
        "    #L:list[int]: liste storant le nombre de substitution pour chaque region\n",
        "    L=[]\n",
        "    while debut<=len(sequence)-length:\n",
        "        region=sequence[debut:debut+length]\n",
        "        L.append(nbsub(motif,region))\n",
        "        debut=debut+1\n",
        "\n",
        "    nbsubmin=L[0]\n",
        "    position_1er_nuc=0\n",
        "\n",
        "    for i in range(1,len(L)):\n",
        "        if L[i]<nbsubmin:\n",
        "            nbsubmin=L[i]\n",
        "            position_1er_nuc=i\n",
        "\n",
        "    return position_1er_nuc,nbsubmin\n",
        "\n",
        "sequence='ATGCTAGTCATTAAGCTACTGATCTAGTACTGATC'\n",
        "motif='TCAG'\n",
        "\n",
        "sequence_utilisateur=input('Tapez une sequence:')\n",
        "motif_utilisateur=input('Tapez un motif:')\n",
        "\n",
        "x=reperer_meilleur_motif(sequence_utilisateur,motif_utilisateur)\n",
        "print('La meilleure position du motif va de',reperer_meilleur_motif(sequence_utilisateur,motif_utilisateur)[0],'à',reperer_meilleur_motif(sequence_utilisateur,motif_utilisateur)[0]+len(motif_utilisateur)-1)\n",
        "print('Le motif est present à',reperer_meilleur_motif(sequence_utilisateur,motif_utilisateur)[1],'substitution(s) pres')"
      ]
    },
    {
      "cell_type": "code",
      "execution_count": null,
      "metadata": {
        "id": "Cs8YpPAOVd3i",
        "outputId": "44c63ee2-e243-43db-bdb1-61533f3c028c"
      },
      "outputs": [
        {
          "name": "stdout",
          "output_type": "stream",
          "text": [
            "0\n",
            "1\n",
            "2\n",
            "3\n",
            "4\n",
            "5\n",
            "6\n",
            "7\n",
            "8\n",
            "9\n",
            "10\n",
            " \n",
            "0\n",
            "2\n",
            "4\n",
            "6\n",
            "8\n",
            "10\n",
            "12\n",
            "14\n",
            "16\n",
            "18\n",
            "20\n",
            " \n",
            "0\n",
            "3\n",
            "6\n",
            "9\n",
            "12\n",
            "15\n",
            "18\n",
            "21\n",
            "24\n",
            "27\n",
            "30\n",
            " \n",
            "0\n",
            "4\n",
            "8\n",
            "12\n",
            "16\n",
            "20\n",
            "24\n",
            "28\n",
            "32\n",
            "36\n",
            "40\n",
            " \n",
            "0\n",
            "5\n",
            "10\n",
            "15\n",
            "20\n",
            "25\n",
            "30\n",
            "35\n",
            "40\n",
            "45\n",
            "50\n",
            " \n",
            "0\n",
            "6\n",
            "12\n",
            "18\n",
            "24\n",
            "30\n",
            "36\n",
            "42\n",
            "48\n",
            "54\n",
            "60\n",
            " \n",
            "0\n",
            "7\n",
            "14\n",
            "21\n",
            "28\n",
            "35\n",
            "42\n",
            "49\n",
            "56\n",
            "63\n",
            "70\n",
            " \n",
            "0\n",
            "8\n",
            "16\n",
            "24\n",
            "32\n",
            "40\n",
            "48\n",
            "56\n",
            "64\n",
            "72\n",
            "80\n",
            " \n",
            "0\n",
            "9\n",
            "18\n",
            "27\n",
            "36\n",
            "45\n",
            "54\n",
            "63\n",
            "72\n",
            "81\n",
            "90\n",
            " \n",
            "0\n",
            "10\n",
            "20\n",
            "30\n",
            "40\n",
            "50\n",
            "60\n",
            "70\n",
            "80\n",
            "90\n",
            "100\n",
            " \n",
            "None\n"
          ]
        }
      ],
      "source": [
        "def tables():\n",
        "    '''none-->int\n",
        "    preconditions: on utilise deux boucles while imbriquées\n",
        "    affiche les tables de multiplication de 1 à 10'''\n",
        "\n",
        "    i=1\n",
        "    while i<11:\n",
        "        j=0\n",
        "        while j<11:\n",
        "            print(i*j)\n",
        "            j=j+1\n",
        "        print(' ')\n",
        "        i=i+1\n",
        "\n",
        "    return\n",
        "\n",
        "x=tables()\n",
        "print(x)"
      ]
    },
    {
      "cell_type": "code",
      "execution_count": null,
      "metadata": {
        "id": "w8Fxvt4-Vd3i",
        "outputId": "667860da-0bf1-4da1-bac0-4d812573020a"
      },
      "outputs": [
        {
          "name": "stdout",
          "output_type": "stream",
          "text": [
            "0\n",
            "1\n",
            "2\n",
            "3\n",
            "4\n",
            "5\n",
            "6\n",
            "7\n",
            "8\n",
            "9\n",
            "10\n",
            " \n",
            "0\n",
            "2\n",
            "4\n",
            "6\n",
            "8\n",
            "10\n",
            "12\n",
            "14\n",
            "16\n",
            "18\n",
            "20\n",
            " \n",
            "0\n",
            "3\n",
            "6\n",
            "9\n",
            "12\n",
            "15\n",
            "18\n",
            "21\n",
            "24\n",
            "27\n",
            "30\n",
            " \n",
            "0\n",
            "4\n",
            "8\n",
            "12\n",
            "16\n",
            "20\n",
            "24\n",
            "28\n",
            "32\n",
            "36\n",
            "40\n",
            " \n",
            "0\n",
            "5\n",
            "10\n",
            "15\n",
            "20\n",
            "25\n",
            "30\n",
            "35\n",
            "40\n",
            "45\n",
            "50\n",
            " \n",
            "0\n",
            "6\n",
            "12\n",
            "18\n",
            "24\n",
            "30\n",
            "36\n",
            "42\n",
            "48\n",
            "54\n",
            "60\n",
            " \n",
            "0\n",
            "7\n",
            "14\n",
            "21\n",
            "28\n",
            "35\n",
            "42\n",
            "49\n",
            "56\n",
            "63\n",
            "70\n",
            " \n",
            "0\n",
            "8\n",
            "16\n",
            "24\n",
            "32\n",
            "40\n",
            "48\n",
            "56\n",
            "64\n",
            "72\n",
            "80\n",
            " \n",
            "0\n",
            "9\n",
            "18\n",
            "27\n",
            "36\n",
            "45\n",
            "54\n",
            "63\n",
            "72\n",
            "81\n",
            "90\n",
            " \n",
            "0\n",
            "10\n",
            "20\n",
            "30\n",
            "40\n",
            "50\n",
            "60\n",
            "70\n",
            "80\n",
            "90\n",
            "100\n",
            " \n",
            "None\n"
          ]
        }
      ],
      "source": [
        "def tablesbis():\n",
        "    '''none-->int\n",
        "    preconditions: on utilise deux boucles for imbriquées\n",
        "    affiche les tables de multiplication de 1 à 10'''\n",
        "\n",
        "\n",
        "    for i in range(1,11):\n",
        "\n",
        "        for j in range(11):\n",
        "            print(i*j)\n",
        "\n",
        "        print(' ')\n",
        "\n",
        "    return\n",
        "\n",
        "x=tablesbis()\n",
        "print(x)"
      ]
    },
    {
      "cell_type": "code",
      "execution_count": null,
      "metadata": {
        "id": "rvCOVEbSVd3i",
        "outputId": "628db4d9-2f73-4aa0-bf01-5e8d1f01bad6"
      },
      "outputs": [
        {
          "name": "stdout",
          "output_type": "stream",
          "text": [
            "0 x 0\n",
            "0 x 1\n",
            "0 x 2\n",
            "0 x 3\n",
            "0 x 4\n",
            "0 x 5\n",
            "1 x 0\n",
            "1 x 1\n",
            "1 x 2\n",
            "1 x 3\n",
            "1 x 4\n",
            "1 x 5\n",
            "2 x 0\n",
            "2 x 1\n",
            "2 x 2\n",
            "2 x 3\n",
            "2 x 4\n",
            "2 x 5\n",
            "3 x 0\n",
            "3 x 1\n",
            "3 x 2\n",
            "3 x 3\n",
            "3 x 4\n",
            "3 x 5\n",
            "4 x 0\n",
            "4 x 1\n",
            "4 x 2\n",
            "4 x 3\n",
            "4 x 4\n",
            "4 x 5\n",
            "5 x 0\n",
            "5 x 1\n",
            "5 x 2\n",
            "5 x 3\n",
            "5 x 4\n",
            "5 x 5\n",
            "36\n"
          ]
        }
      ],
      "source": [
        "def nb_couples_intervalle(n,p):\n",
        "    '''int*int-->int\n",
        "    preconditions n<=p\n",
        "    renvoie le nombre de couples (i,j) d'entiers dans l'intervalle [n,p]'''\n",
        "\n",
        "    nb_couples=0\n",
        "\n",
        "    for i in range(n,p+1):\n",
        "        for j in range(n,p+1):\n",
        "            print(i,'x',j)\n",
        "            nb_couples=nb_couples+1\n",
        "\n",
        "    return nb_couples\n",
        "\n",
        "x=nb_couples_intervalle(0,5)\n",
        "print(x)"
      ]
    },
    {
      "cell_type": "code",
      "execution_count": null,
      "metadata": {
        "id": "vZoKqVpWVd3j",
        "outputId": "5ee2d9cb-1a75-431f-c8cf-c265599aa38d"
      },
      "outputs": [
        {
          "name": "stdout",
          "output_type": "stream",
          "text": [
            "0 x 1\n",
            "0 x 2\n",
            "0 x 3\n",
            "0 x 4\n",
            "0 x 5\n",
            "1 x 2\n",
            "1 x 3\n",
            "1 x 4\n",
            "1 x 5\n",
            "2 x 3\n",
            "2 x 4\n",
            "2 x 5\n",
            "3 x 4\n",
            "3 x 5\n",
            "4 x 5\n",
            "15\n"
          ]
        }
      ],
      "source": [
        "def nb_couples_distincts_intervalle(n,p):\n",
        "    '''int*int-->int\n",
        "    preconditions n<=p\n",
        "    renvoie le nombre de couples (i,j) d'entiers dans l'intervalle [n,p]'''\n",
        "\n",
        "    nb_couples=0\n",
        "\n",
        "    for i in range(n,p+1):\n",
        "        for j in range(n,p+1):\n",
        "            if i<j:\n",
        "                print(i,'x',j)\n",
        "                nb_couples=nb_couples+1\n",
        "\n",
        "    return nb_couples\n",
        "\n",
        "x=nb_couples_distincts_intervalle(0,5)\n",
        "print(x)"
      ]
    },
    {
      "cell_type": "code",
      "execution_count": null,
      "metadata": {
        "id": "yoV1JJnCVd3j",
        "outputId": "672acf44-f340-4e2f-ee31-278e75b3cb2f"
      },
      "outputs": [
        {
          "name": "stdout",
          "output_type": "stream",
          "text": [
            "[7.966666666666666, 18.03333333333333, 27.766666666666666, 10.066666666666666, 19.8, 29.733333333333334, 9.733333333333333, 19.666666666666668, 29.266666666666666, 9.933333333333334, 19.533333333333335, 28.400000000000002, 9.6, 18.46666666666667, 25.433333333333337, 8.866666666666667, 15.833333333333334, 24.599999999999998, 6.966666666666666, 15.733333333333334, 23.133333333333336, 8.766666666666667, 16.166666666666668, 25.633333333333336, 7.3999999999999995, 16.866666666666664, 25.099999999999998, 9.466666666666667, 17.7, 26.23333333333333, 8.233333333333333, 16.766666666666666, 25.53333333333333, 8.533333333333333, 17.3, 27.233333333333334, 8.766666666666667, 18.7, 27.866666666666664, 9.933333333333334, 19.099999999999998, 28.766666666666666, 9.166666666666666, 18.833333333333332, 25.900000000000002, 9.666666666666666, 16.733333333333334, 25.933333333333337, 7.066666666666666, 16.266666666666666, 24.599999999999998]\n"
          ]
        }
      ],
      "source": [
        "import random\n",
        "def juillet(na):\n",
        "    '''int->List[float]\n",
        "    preconditons : none\n",
        "    renvoie une liste de na arugments de temperature le 15 de juillet sur les na années'''\n",
        "\n",
        "    L=[]\n",
        "\n",
        "    i=0\n",
        "    while i<na:\n",
        "        n=round(random.random()*(30.8-20.6)+20.6,1)\n",
        "        L.append(n)\n",
        "        i=i+1\n",
        "\n",
        "    return L\n",
        "\n",
        "def moyennes_glissantes(lnb,lf):\n",
        "    '''List[float]*int-->list[float]\n",
        "    preconditions: none\n",
        "    renvoie la liste des moyennes glissantes de longueur f'''\n",
        "\n",
        "    i=0\n",
        "    L=[]\n",
        "\n",
        "    while i<(len(lnb)-lf):\n",
        "        somme=0\n",
        "        moyenne=0\n",
        "        for j in range(i,i+lf):\n",
        "                somme=somme+lnb[j]\n",
        "                moyenne=round(somme/lf\n",
        "                L.append(moyenne)\n",
        "        i=i+1\n",
        "\n",
        "    return L\n",
        "\n",
        "lnb=juillet(20)\n",
        "x=moyennes_glissantes(lnb,3)\n",
        "print(x)"
      ]
    },
    {
      "cell_type": "code",
      "execution_count": null,
      "metadata": {
        "id": "uST81Y-JVd3j"
      },
      "outputs": [],
      "source": []
    },
    {
      "cell_type": "code",
      "execution_count": null,
      "metadata": {
        "id": "42HnaJ4YVd3j"
      },
      "outputs": [],
      "source": []
    }
  ],
  "metadata": {
    "kernelspec": {
      "display_name": "Python 3 (ipykernel)",
      "language": "python",
      "name": "python3"
    },
    "language_info": {
      "codemirror_mode": {
        "name": "ipython",
        "version": 3
      },
      "file_extension": ".py",
      "mimetype": "text/x-python",
      "name": "python",
      "nbconvert_exporter": "python",
      "pygments_lexer": "ipython3",
      "version": "3.11.0"
    },
    "colab": {
      "provenance": [],
      "include_colab_link": true
    }
  },
  "nbformat": 4,
  "nbformat_minor": 0
}